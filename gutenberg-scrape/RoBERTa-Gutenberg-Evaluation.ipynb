{
    "cells": [
        {
            "cell_type": "markdown",
            "source": [
                "### Import modules"
            ],
            "metadata": {}
        },
        {
            "cell_type": "code",
            "execution_count": 1,
            "source": [
                "from transformers import RobertaTokenizerFast, AutoModelForSequenceClassification\r\n",
                "import numpy as np \r\n",
                "import pandas as pd\r\n",
                "import torch"
            ],
            "outputs": [],
            "metadata": {}
        },
        {
            "cell_type": "markdown",
            "source": [
                "### Load tokenizer"
            ],
            "metadata": {}
        },
        {
            "cell_type": "code",
            "execution_count": 2,
            "source": [
                "tokenizer = RobertaTokenizerFast.from_pretrained(\"./Commonlit-RoBERTa-Base/tokenizer\")"
            ],
            "outputs": [
                {
                    "output_type": "stream",
                    "name": "stderr",
                    "text": [
                        "file ./Commonlit-RoBERTa-Base/tokenizer\\config.json not found\n"
                    ]
                }
            ],
            "metadata": {}
        },
        {
            "cell_type": "markdown",
            "source": [
                "### Load model"
            ],
            "metadata": {}
        },
        {
            "cell_type": "code",
            "execution_count": 3,
            "source": [
                "model = AutoModelForSequenceClassification.from_pretrained(\"./Commonlit-RoBERTa-Base\")"
            ],
            "outputs": [],
            "metadata": {}
        },
        {
            "cell_type": "markdown",
            "source": [
                "### Display sample data from excerpts CSV"
            ],
            "metadata": {}
        },
        {
            "cell_type": "code",
            "execution_count": 4,
            "source": [
                "# Change file name according to which csv to use\r\n",
                "gutenberg_df = pd.read_csv('./Gutenberg-Excerpts/gutenberg-excerpts-3.csv') \r\n",
                "gutenberg_df"
            ],
            "outputs": [
                {
                    "output_type": "execute_result",
                    "data": {
                        "text/html": [
                            "<div>\n",
                            "<style scoped>\n",
                            "    .dataframe tbody tr th:only-of-type {\n",
                            "        vertical-align: middle;\n",
                            "    }\n",
                            "\n",
                            "    .dataframe tbody tr th {\n",
                            "        vertical-align: top;\n",
                            "    }\n",
                            "\n",
                            "    .dataframe thead th {\n",
                            "        text-align: right;\n",
                            "    }\n",
                            "</style>\n",
                            "<table border=\"1\" class=\"dataframe\">\n",
                            "  <thead>\n",
                            "    <tr style=\"text-align: right;\">\n",
                            "      <th></th>\n",
                            "      <th>book</th>\n",
                            "      <th>author</th>\n",
                            "      <th>url</th>\n",
                            "      <th>excerpt</th>\n",
                            "    </tr>\n",
                            "  </thead>\n",
                            "  <tbody>\n",
                            "    <tr>\n",
                            "      <th>0</th>\n",
                            "      <td>Pride and Prejudice</td>\n",
                            "      <td>Jane Austen</td>\n",
                            "      <td>https://www.gutenberg.org/files/1342/1342-h/13...</td>\n",
                            "      <td>Mr. Gardiner, whose manners were very easy and...</td>\n",
                            "    </tr>\n",
                            "    <tr>\n",
                            "      <th>1</th>\n",
                            "      <td>Frankenstein; Or, The Modern Prometheus</td>\n",
                            "      <td>Mary Wollstonecraft Shelley</td>\n",
                            "      <td>https://www.gutenberg.org/files/84/84-h/84-h.htm</td>\n",
                            "      <td>Henry wished to dissuade me, but seeing me ben...</td>\n",
                            "    </tr>\n",
                            "    <tr>\n",
                            "      <th>2</th>\n",
                            "      <td>Alice's Adventures in Wonderland</td>\n",
                            "      <td>Lewis Carroll</td>\n",
                            "      <td>https://www.gutenberg.org/files/11/11-h/11-h.htm</td>\n",
                            "      <td>“I thought it would,” said the Cat, and vanish...</td>\n",
                            "    </tr>\n",
                            "    <tr>\n",
                            "      <th>3</th>\n",
                            "      <td>The Adventures of Sherlock Holmes</td>\n",
                            "      <td>Arthur Conan Doyle</td>\n",
                            "      <td>https://www.gutenberg.org/files/1661/1661-h/16...</td>\n",
                            "      <td>“‘Do you desire your name to be kept upon the ...</td>\n",
                            "    </tr>\n",
                            "    <tr>\n",
                            "      <th>4</th>\n",
                            "      <td>Moby Dick; Or, The Whale</td>\n",
                            "      <td>Herman Melville</td>\n",
                            "      <td>https://www.gutenberg.org/files/2701/2701-h/27...</td>\n",
                            "      <td>“Stand not by me, but stand under me, whoever ...</td>\n",
                            "    </tr>\n",
                            "    <tr>\n",
                            "      <th>...</th>\n",
                            "      <td>...</td>\n",
                            "      <td>...</td>\n",
                            "      <td>...</td>\n",
                            "      <td>...</td>\n",
                            "    </tr>\n",
                            "    <tr>\n",
                            "      <th>95</th>\n",
                            "      <td>Persuasion</td>\n",
                            "      <td>Jane Austen</td>\n",
                            "      <td>https://www.gutenberg.org/files/105/105-h/105-...</td>\n",
                            "      <td>\"I never want them, I assure you. They talk an...</td>\n",
                            "    </tr>\n",
                            "    <tr>\n",
                            "      <th>96</th>\n",
                            "      <td>Complete Original Short Stories of Guy De Maup...</td>\n",
                            "      <td>Guy de Maupassant</td>\n",
                            "      <td>https://www.gutenberg.org/files/3090/3090-h/30...</td>\n",
                            "      <td>“If you do not obey, I shall smash the lock. I...</td>\n",
                            "    </tr>\n",
                            "    <tr>\n",
                            "      <th>97</th>\n",
                            "      <td>The Jungle</td>\n",
                            "      <td>Upton Sinclair</td>\n",
                            "      <td>https://www.gutenberg.org/files/140/140-h/140-...</td>\n",
                            "      <td>“Yes, but this don’t wash.” “What is it?” “Fer...</td>\n",
                            "    </tr>\n",
                            "    <tr>\n",
                            "      <th>98</th>\n",
                            "      <td>The Elements of Style</td>\n",
                            "      <td>William Strunk</td>\n",
                            "      <td>https://www.gutenberg.org/files/37134/37134-h/...</td>\n",
                            "      <td>The same is true of colloquialisms and slang. ...</td>\n",
                            "    </tr>\n",
                            "    <tr>\n",
                            "      <th>99</th>\n",
                            "      <td>A Pickle for the Knowing Ones</td>\n",
                            "      <td>Timothy Dexter</td>\n",
                            "      <td>https://www.gutenberg.org/files/43453/43453-h/...</td>\n",
                            "      <td>While aiming at a just portrait of this remark...</td>\n",
                            "    </tr>\n",
                            "  </tbody>\n",
                            "</table>\n",
                            "<p>100 rows × 4 columns</p>\n",
                            "</div>"
                        ],
                        "text/plain": [
                            "                                                 book  \\\n",
                            "0                                 Pride and Prejudice   \n",
                            "1             Frankenstein; Or, The Modern Prometheus   \n",
                            "2                    Alice's Adventures in Wonderland   \n",
                            "3                   The Adventures of Sherlock Holmes   \n",
                            "4                            Moby Dick; Or, The Whale   \n",
                            "..                                                ...   \n",
                            "95                                         Persuasion   \n",
                            "96  Complete Original Short Stories of Guy De Maup...   \n",
                            "97                                         The Jungle   \n",
                            "98                              The Elements of Style   \n",
                            "99                      A Pickle for the Knowing Ones   \n",
                            "\n",
                            "                         author  \\\n",
                            "0                   Jane Austen   \n",
                            "1   Mary Wollstonecraft Shelley   \n",
                            "2                 Lewis Carroll   \n",
                            "3            Arthur Conan Doyle   \n",
                            "4               Herman Melville   \n",
                            "..                          ...   \n",
                            "95                  Jane Austen   \n",
                            "96            Guy de Maupassant   \n",
                            "97               Upton Sinclair   \n",
                            "98               William Strunk   \n",
                            "99               Timothy Dexter   \n",
                            "\n",
                            "                                                  url  \\\n",
                            "0   https://www.gutenberg.org/files/1342/1342-h/13...   \n",
                            "1    https://www.gutenberg.org/files/84/84-h/84-h.htm   \n",
                            "2    https://www.gutenberg.org/files/11/11-h/11-h.htm   \n",
                            "3   https://www.gutenberg.org/files/1661/1661-h/16...   \n",
                            "4   https://www.gutenberg.org/files/2701/2701-h/27...   \n",
                            "..                                                ...   \n",
                            "95  https://www.gutenberg.org/files/105/105-h/105-...   \n",
                            "96  https://www.gutenberg.org/files/3090/3090-h/30...   \n",
                            "97  https://www.gutenberg.org/files/140/140-h/140-...   \n",
                            "98  https://www.gutenberg.org/files/37134/37134-h/...   \n",
                            "99  https://www.gutenberg.org/files/43453/43453-h/...   \n",
                            "\n",
                            "                                              excerpt  \n",
                            "0   Mr. Gardiner, whose manners were very easy and...  \n",
                            "1   Henry wished to dissuade me, but seeing me ben...  \n",
                            "2   “I thought it would,” said the Cat, and vanish...  \n",
                            "3   “‘Do you desire your name to be kept upon the ...  \n",
                            "4   “Stand not by me, but stand under me, whoever ...  \n",
                            "..                                                ...  \n",
                            "95  \"I never want them, I assure you. They talk an...  \n",
                            "96  “If you do not obey, I shall smash the lock. I...  \n",
                            "97  “Yes, but this don’t wash.” “What is it?” “Fer...  \n",
                            "98  The same is true of colloquialisms and slang. ...  \n",
                            "99  While aiming at a just portrait of this remark...  \n",
                            "\n",
                            "[100 rows x 4 columns]"
                        ]
                    },
                    "metadata": {},
                    "execution_count": 4
                }
            ],
            "metadata": {}
        },
        {
            "cell_type": "markdown",
            "source": [
                "### Compute predictions based on a range of excerpt CSV files and save predictions as CSV"
            ],
            "metadata": {}
        },
        {
            "cell_type": "code",
            "execution_count": 6,
            "source": [
                "# Maximum length for token sequence\r\n",
                "MAX_LENGTH = 256\r\n",
                "\r\n",
                "# Iterate through each excerpt file\r\n",
                "for i in range (1,11):\r\n",
                "    # Load excerpt file into DataFrame\r\n",
                "    gutenberg_df = pd.read_csv('./Gutenberg-Excerpts/gutenberg-excerpts-' + str(i) + '.csv') \r\n",
                "    # Convert excerpts to list\r\n",
                "    excerpt_list = gutenberg_df['excerpt'].tolist()\r\n",
                "    # Initialise predictions list\r\n",
                "    preds_list = []\r\n",
                "\r\n",
                "    # Repeat through each excerpt and compute predictions\r\n",
                "    for j in range(len(excerpt_list)):\r\n",
                "        token_seq = tokenizer(excerpt_list[j], padding = \"max_length\", max_length=MAX_LENGTH, truncation=True, return_tensors=\"pt\")\r\n",
                "        preds = model(**token_seq).logits[0].item()\r\n",
                "        preds_list.append(preds)\r\n",
                "    \r\n",
                "    # Create dataframe from the predictions in order to convert to CSV\r\n",
                "    gutenberg_preds = pd.DataFrame({'book': gutenberg_df['book'],\r\n",
                "                                'author': gutenberg_df['author'],\r\n",
                "                                'url': gutenberg_df['url'],\r\n",
                "                                'excerpt': gutenberg_df['excerpt'],\r\n",
                "                                'target': preds_list})\r\n",
                "\r\n",
                "    # Save predictions as CSV\r\n",
                "    gutenberg_preds.to_csv('./Gutenberg-Predictions/gutenberg-predictions-' + str(i) + '.csv', index = False, encoding = 'utf-8-sig')"
            ],
            "outputs": [],
            "metadata": {}
        }
    ],
    "metadata": {
        "orig_nbformat": 4,
        "language_info": {
            "name": "python",
            "version": "3.9.4",
            "mimetype": "text/x-python",
            "codemirror_mode": {
                "name": "ipython",
                "version": 3
            },
            "pygments_lexer": "ipython3",
            "nbconvert_exporter": "python",
            "file_extension": ".py"
        },
        "kernelspec": {
            "name": "python3",
            "display_name": "Python 3.9.4 64-bit"
        },
        "interpreter": {
            "hash": "5eb756464d92b1fba7c316c219a9aedd64e50b1f9cf7b2745bd052621490d6a2"
        }
    },
    "nbformat": 4,
    "nbformat_minor": 2
}