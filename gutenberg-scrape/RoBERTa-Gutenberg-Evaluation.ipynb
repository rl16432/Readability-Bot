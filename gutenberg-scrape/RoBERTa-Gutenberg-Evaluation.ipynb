{
    "cells": [
        {
            "cell_type": "code",
            "execution_count": 2,
            "source": [
                "from transformers import RobertaTokenizerFast, AutoModelForSequenceClassification\r\n",
                "import numpy as np \r\n",
                "import pandas as pd\r\n",
                "import torch"
            ],
            "outputs": [],
            "metadata": {}
        },
        {
            "cell_type": "code",
            "execution_count": 3,
            "source": [
                "tokenizer = RobertaTokenizerFast.from_pretrained(\"./Commonlit-RoBERTa-Base/tokenizer\")"
            ],
            "outputs": [
                {
                    "output_type": "stream",
                    "name": "stderr",
                    "text": [
                        "file ./Commonlit-RoBERTa-Base/tokenizer\\config.json not found\n"
                    ]
                }
            ],
            "metadata": {}
        },
        {
            "cell_type": "code",
            "execution_count": 4,
            "source": [
                "model = AutoModelForSequenceClassification.from_pretrained(\"./Commonlit-RoBERTa-Base\")"
            ],
            "outputs": [],
            "metadata": {}
        },
        {
            "cell_type": "code",
            "execution_count": 5,
            "source": [
                "gutenberg_df = pd.read_csv('gutenberg_scrape_v2.csv')\r\n",
                "gutenberg_df"
            ],
            "outputs": [
                {
                    "output_type": "execute_result",
                    "data": {
                        "text/html": [
                            "<div>\n",
                            "<style scoped>\n",
                            "    .dataframe tbody tr th:only-of-type {\n",
                            "        vertical-align: middle;\n",
                            "    }\n",
                            "\n",
                            "    .dataframe tbody tr th {\n",
                            "        vertical-align: top;\n",
                            "    }\n",
                            "\n",
                            "    .dataframe thead th {\n",
                            "        text-align: right;\n",
                            "    }\n",
                            "</style>\n",
                            "<table border=\"1\" class=\"dataframe\">\n",
                            "  <thead>\n",
                            "    <tr style=\"text-align: right;\">\n",
                            "      <th></th>\n",
                            "      <th>book</th>\n",
                            "      <th>author</th>\n",
                            "      <th>url</th>\n",
                            "      <th>excerpt</th>\n",
                            "    </tr>\n",
                            "  </thead>\n",
                            "  <tbody>\n",
                            "    <tr>\n",
                            "      <th>0</th>\n",
                            "      <td>Pride and Prejudice</td>\n",
                            "      <td>Jane Austen</td>\n",
                            "      <td>https://www.gutenberg.org/files/1342/1342-h/13...</td>\n",
                            "      <td>When Jane and Elizabeth were alone, the former...</td>\n",
                            "    </tr>\n",
                            "    <tr>\n",
                            "      <th>1</th>\n",
                            "      <td>Alice's Adventures in Wonderland</td>\n",
                            "      <td>Lewis Carroll</td>\n",
                            "      <td>https://www.gutenberg.org/files/11/11-h/11-h.htm</td>\n",
                            "      <td>“Mine is a long and a sad tale!” said the Mous...</td>\n",
                            "    </tr>\n",
                            "    <tr>\n",
                            "      <th>2</th>\n",
                            "      <td>Frankenstein; Or, The Modern Prometheus</td>\n",
                            "      <td>Mary Wollstonecraft Shelley</td>\n",
                            "      <td>https://www.gutenberg.org/files/84/84-h/84-h.htm</td>\n",
                            "      <td>When my father returned from Milan, he found p...</td>\n",
                            "    </tr>\n",
                            "    <tr>\n",
                            "      <th>3</th>\n",
                            "      <td>The Adventures of Sherlock Holmes</td>\n",
                            "      <td>Arthur Conan Doyle</td>\n",
                            "      <td>https://www.gutenberg.org/files/1661/1661-h/16...</td>\n",
                            "      <td>“It must be recovered.” “We have tried and fai...</td>\n",
                            "    </tr>\n",
                            "    <tr>\n",
                            "      <th>4</th>\n",
                            "      <td>Moby Dick; Or, The Whale</td>\n",
                            "      <td>Herman Melville</td>\n",
                            "      <td>https://www.gutenberg.org/files/2701/2701-h/27...</td>\n",
                            "      <td>The pale Usher—threadbare in coat, heart, body...</td>\n",
                            "    </tr>\n",
                            "    <tr>\n",
                            "      <th>...</th>\n",
                            "      <td>...</td>\n",
                            "      <td>...</td>\n",
                            "      <td>...</td>\n",
                            "      <td>...</td>\n",
                            "    </tr>\n",
                            "    <tr>\n",
                            "      <th>95</th>\n",
                            "      <td>The Elements of Style</td>\n",
                            "      <td>William Strunk</td>\n",
                            "      <td>https://www.gutenberg.org/files/37134/37134-h/...</td>\n",
                            "      <td>It is nearly half past five. We cannot reach t...</td>\n",
                            "    </tr>\n",
                            "    <tr>\n",
                            "      <th>96</th>\n",
                            "      <td>Songs of Innocence, and Songs of Experience</td>\n",
                            "      <td>William Blake</td>\n",
                            "      <td>https://www.gutenberg.org/files/1934/1934-h/19...</td>\n",
                            "      <td>58 The Human Abstract 59 Infant Sorrow 61 A Po...</td>\n",
                            "    </tr>\n",
                            "    <tr>\n",
                            "      <th>97</th>\n",
                            "      <td>Pygmalion</td>\n",
                            "      <td>Bernard Shaw</td>\n",
                            "      <td>https://www.gutenberg.org/files/3825/3825-h/38...</td>\n",
                            "      <td>Titterings. Popular interest in the note taker...</td>\n",
                            "    </tr>\n",
                            "    <tr>\n",
                            "      <th>98</th>\n",
                            "      <td>Candide</td>\n",
                            "      <td>Voltaire</td>\n",
                            "      <td>https://www.gutenberg.org/files/19942/19942-h/...</td>\n",
                            "      <td>\"What can be the sufficient reason of this phe...</td>\n",
                            "    </tr>\n",
                            "    <tr>\n",
                            "      <th>99</th>\n",
                            "      <td>The Life and Adventures of Robinson Crusoe</td>\n",
                            "      <td>Daniel Defoe</td>\n",
                            "      <td>https://www.gutenberg.org/files/521/521-h/521-...</td>\n",
                            "      <td>This was game indeed to us, but this was no fo...</td>\n",
                            "    </tr>\n",
                            "  </tbody>\n",
                            "</table>\n",
                            "<p>100 rows × 4 columns</p>\n",
                            "</div>"
                        ],
                        "text/plain": [
                            "                                           book                       author  \\\n",
                            "0                           Pride and Prejudice                  Jane Austen   \n",
                            "1              Alice's Adventures in Wonderland                Lewis Carroll   \n",
                            "2       Frankenstein; Or, The Modern Prometheus  Mary Wollstonecraft Shelley   \n",
                            "3             The Adventures of Sherlock Holmes           Arthur Conan Doyle   \n",
                            "4                      Moby Dick; Or, The Whale              Herman Melville   \n",
                            "..                                          ...                          ...   \n",
                            "95                        The Elements of Style               William Strunk   \n",
                            "96  Songs of Innocence, and Songs of Experience                William Blake   \n",
                            "97                                    Pygmalion                 Bernard Shaw   \n",
                            "98                                      Candide                     Voltaire   \n",
                            "99   The Life and Adventures of Robinson Crusoe                 Daniel Defoe   \n",
                            "\n",
                            "                                                  url  \\\n",
                            "0   https://www.gutenberg.org/files/1342/1342-h/13...   \n",
                            "1    https://www.gutenberg.org/files/11/11-h/11-h.htm   \n",
                            "2    https://www.gutenberg.org/files/84/84-h/84-h.htm   \n",
                            "3   https://www.gutenberg.org/files/1661/1661-h/16...   \n",
                            "4   https://www.gutenberg.org/files/2701/2701-h/27...   \n",
                            "..                                                ...   \n",
                            "95  https://www.gutenberg.org/files/37134/37134-h/...   \n",
                            "96  https://www.gutenberg.org/files/1934/1934-h/19...   \n",
                            "97  https://www.gutenberg.org/files/3825/3825-h/38...   \n",
                            "98  https://www.gutenberg.org/files/19942/19942-h/...   \n",
                            "99  https://www.gutenberg.org/files/521/521-h/521-...   \n",
                            "\n",
                            "                                              excerpt  \n",
                            "0   When Jane and Elizabeth were alone, the former...  \n",
                            "1   “Mine is a long and a sad tale!” said the Mous...  \n",
                            "2   When my father returned from Milan, he found p...  \n",
                            "3   “It must be recovered.” “We have tried and fai...  \n",
                            "4   The pale Usher—threadbare in coat, heart, body...  \n",
                            "..                                                ...  \n",
                            "95  It is nearly half past five. We cannot reach t...  \n",
                            "96  58 The Human Abstract 59 Infant Sorrow 61 A Po...  \n",
                            "97  Titterings. Popular interest in the note taker...  \n",
                            "98  \"What can be the sufficient reason of this phe...  \n",
                            "99  This was game indeed to us, but this was no fo...  \n",
                            "\n",
                            "[100 rows x 4 columns]"
                        ]
                    },
                    "metadata": {},
                    "execution_count": 5
                }
            ],
            "metadata": {}
        },
        {
            "cell_type": "code",
            "execution_count": 6,
            "source": [
                "MAX_LENGTH = 256\r\n",
                "text = [\"An oath from Perrault, the resounding impact of a club upon a bony frame, and a shrill yelp of pain, heralded the breaking forth of pandemonium. The camp was suddenly discovered to be alive with skulking furry forms,—starving huskies, four or five score of them, who had scented the camp from some Indian village. They had crept in while Buck and Spitz were fighting, and when the two men sprang among them with stout clubs they showed their teeth and fought back. They were crazed by the smell of the food. Perrault found one with head buried in the grub-box. His club landed heavily on the gaunt ribs, and the grub-box was capsized on the ground.\",\r\n",
                "        \"There was a clamor of scores of voices, saying: “What matter? He will die in the winter rains. He will scorch in the sun. What harm can a naked frog do us? Let him run with the Pack. Where is the bull, Bagheera? Let him be accepted.” And then came Akela’s deep bay, crying: “Look well—look well, O Wolves!” Mowgli was still deeply interested in the pebbles, and he did not notice when the wolves came and looked at him one by one. At last they all went down the hill for the dead bull, and only Akela, Bagheera, Baloo, and Mowgli’s own wolves were left.\",\r\n",
                "        \"4:21 And his brother’s name was Jubal: he was the father of all such as handle the harp and organ. 4:22 And Zillah, she also bare Tubalcain, an instructer of every artificer in brass and iron: and the sister of Tubalcain was Naamah. 4:23 And Lamech said unto his wives, Adah and Zillah, Hear my voice; ye wives of Lamech, hearken unto my speech: for I have slain a man to my wounding, and a young man to my hurt. 4:24 If Cain shall be avenged sevenfold, truly Lamech seventy and sevenfold. 4:25 And Adam knew his wife again; and she bare a son, and called his name Seth: For God, said she, hath appointed me another seed instead of Abel, whom Cain slew.\",\r\n",
                "        \"A STUDY BY POL. NEVEUX He undertook to write the article for the Gaulois and, in cooperation with his friends, he worded it in the terms with which we are familiar, amplifying and embellishing it, yielding to an inborn taste for mystification which his youth rendered excusable. The essential point, he said, is to “unmoor” criticism. It was unmoored. The following day Wolff wrote a polemical dissertation in the Figaro and carried away his colleagues. The volume was a brilliant success, thanks to Boule de Suif. Despite the novelty, the honesty of effort, on the part of all, no mention was made of the other stories.\",\r\n",
                "        \"Making some allowance for the exuberance of friendship, I am inclined to endorse this favorable judgment, and would certainly place him above Ch’en Hao in order of merit. The following is an extract from the \\\"Impartial Judgments in the Garden of Literature\\\" by Cheng Hou:— Chu Hsi, commenting on this, fully admits the first part of the criticism, although he dislikes the audacious comparison with the venerated classical works. Language of this sort, he says,\\\"encourages a ruler's bent towards unrelenting warfare and reckless militarism.\\\" Accustomed as we are to think of China as the greatest peace-loving nation on earth, we are in some danger of forgetting that her experience of war in all its phases has also been such as no modern State can parallel.\"]\r\n",
                "token = tokenizer(text[4], padding = \"max_length\", max_length = MAX_LENGTH, truncation = True, return_tensors = \"pt\")"
            ],
            "outputs": [],
            "metadata": {}
        },
        {
            "cell_type": "code",
            "execution_count": 7,
            "source": [
                "def tokenize_data(dataset):\r\n",
                "    token_seq = tokenizer(dataset['text'], padding = \"max_length\", max_length = 256, truncation = True, return_tensors=\"pt\")\r\n",
                "    return token_seq"
            ],
            "outputs": [],
            "metadata": {}
        },
        {
            "cell_type": "code",
            "execution_count": 31,
            "source": [
                "excerpt_list = gutenberg_df['excerpt'].tolist()\r\n",
                "excerpt_list = [excerpt.replace('\\n', ' ') for excerpt in excerpt_list]"
            ],
            "outputs": [],
            "metadata": {}
        },
        {
            "cell_type": "code",
            "execution_count": 32,
            "source": [
                "tokenized_excerpts = tokenizer(excerpt_list, padding=\"max_length\", max_length=256, truncation=True, return_tensors=\"pt\")\r\n",
                "tokenized_excerpts"
            ],
            "outputs": [
                {
                    "output_type": "execute_result",
                    "data": {
                        "text/plain": [
                            "{'input_ids': tensor([[   0, 1779, 7343,  ...,    1,    1,    1],\n",
                            "        [   0,   17,   48,  ...,    1,    1,    1],\n",
                            "        [   0, 1779,  127,  ...,    1,    1,    1],\n",
                            "        ...,\n",
                            "        [   0,  565, 7915,  ...,    1,    1,    1],\n",
                            "        [   0,  113, 2264,  ...,    1,    1,    1],\n",
                            "        [   0,  713,   21,  ...,    1,    1,    1]]), 'attention_mask': tensor([[1, 1, 1,  ..., 0, 0, 0],\n",
                            "        [1, 1, 1,  ..., 0, 0, 0],\n",
                            "        [1, 1, 1,  ..., 0, 0, 0],\n",
                            "        ...,\n",
                            "        [1, 1, 1,  ..., 0, 0, 0],\n",
                            "        [1, 1, 1,  ..., 0, 0, 0],\n",
                            "        [1, 1, 1,  ..., 0, 0, 0]])}"
                        ]
                    },
                    "metadata": {},
                    "execution_count": 32
                }
            ],
            "metadata": {}
        },
        {
            "cell_type": "code",
            "execution_count": 33,
            "source": [
                "preds_list = []\r\n",
                "for i in range(len(excerpt_list)):\r\n",
                "    token_seq = tokenizer(excerpt_list[i], padding = \"max_length\", max_length=256, truncation=True, return_tensors=\"pt\")\r\n",
                "    preds = model(**token_seq).logits[0].item()\r\n",
                "    preds_list.append(preds)\r\n",
                "    if i == 10:\r\n",
                "        break"
            ],
            "outputs": [],
            "metadata": {}
        },
        {
            "cell_type": "code",
            "execution_count": 34,
            "source": [
                "preds_list"
            ],
            "outputs": [
                {
                    "output_type": "execute_result",
                    "data": {
                        "text/plain": [
                            "[-0.15752682089805603,\n",
                            " 0.4902236759662628,\n",
                            " -0.7598305940628052,\n",
                            " 0.01562890037894249,\n",
                            " -2.137132406234741,\n",
                            " -0.2922174632549286,\n",
                            " 0.2898958921432495,\n",
                            " -2.342776298522949,\n",
                            " -0.11357664316892624,\n",
                            " -0.05659713223576546,\n",
                            " -0.15762488543987274]"
                        ]
                    },
                    "metadata": {},
                    "execution_count": 34
                }
            ],
            "metadata": {}
        }
    ],
    "metadata": {
        "orig_nbformat": 4,
        "language_info": {
            "name": "python",
            "version": "3.9.4",
            "mimetype": "text/x-python",
            "codemirror_mode": {
                "name": "ipython",
                "version": 3
            },
            "pygments_lexer": "ipython3",
            "nbconvert_exporter": "python",
            "file_extension": ".py"
        },
        "kernelspec": {
            "name": "python3",
            "display_name": "Python 3.9.4 64-bit"
        },
        "interpreter": {
            "hash": "5eb756464d92b1fba7c316c219a9aedd64e50b1f9cf7b2745bd052621490d6a2"
        }
    },
    "nbformat": 4,
    "nbformat_minor": 2
}