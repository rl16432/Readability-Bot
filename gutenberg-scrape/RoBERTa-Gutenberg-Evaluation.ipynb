{
    "cells": [
        {
            "cell_type": "code",
            "execution_count": 57,
            "source": [
                "from transformers import RobertaTokenizerFast, AutoModelForSequenceClassification\r\n",
                "import numpy as np \r\n",
                "import pandas as pd\r\n",
                "import torch"
            ],
            "outputs": [],
            "metadata": {}
        },
        {
            "cell_type": "code",
            "execution_count": 58,
            "source": [
                "tokenizer = RobertaTokenizerFast.from_pretrained(\"./Commonlit-RoBERTa-Base/tokenizer\")"
            ],
            "outputs": [
                {
                    "output_type": "stream",
                    "name": "stderr",
                    "text": [
                        "file ./Commonlit-RoBERTa-Base/tokenizer\\config.json not found\n"
                    ]
                }
            ],
            "metadata": {}
        },
        {
            "cell_type": "code",
            "execution_count": 59,
            "source": [
                "model = AutoModelForSequenceClassification.from_pretrained(\"./Commonlit-RoBERTa-Base\")"
            ],
            "outputs": [],
            "metadata": {}
        },
        {
            "cell_type": "code",
            "execution_count": 66,
            "source": [
                "gutenberg_df = pd.read_csv('./Gutenberg-Excerpts/gutenberg-excerpts.csv')\r\n",
                "gutenberg_df"
            ],
            "outputs": [
                {
                    "output_type": "execute_result",
                    "data": {
                        "text/html": [
                            "<div>\n",
                            "<style scoped>\n",
                            "    .dataframe tbody tr th:only-of-type {\n",
                            "        vertical-align: middle;\n",
                            "    }\n",
                            "\n",
                            "    .dataframe tbody tr th {\n",
                            "        vertical-align: top;\n",
                            "    }\n",
                            "\n",
                            "    .dataframe thead th {\n",
                            "        text-align: right;\n",
                            "    }\n",
                            "</style>\n",
                            "<table border=\"1\" class=\"dataframe\">\n",
                            "  <thead>\n",
                            "    <tr style=\"text-align: right;\">\n",
                            "      <th></th>\n",
                            "      <th>book</th>\n",
                            "      <th>author</th>\n",
                            "      <th>url</th>\n",
                            "      <th>excerpt</th>\n",
                            "    </tr>\n",
                            "  </thead>\n",
                            "  <tbody>\n",
                            "    <tr>\n",
                            "      <th>0</th>\n",
                            "      <td>Pride and Prejudice</td>\n",
                            "      <td>Jane Austen</td>\n",
                            "      <td>https://www.gutenberg.org/files/1342/1342-h/13...</td>\n",
                            "      <td>When Jane and Elizabeth were alone, the former...</td>\n",
                            "    </tr>\n",
                            "    <tr>\n",
                            "      <th>1</th>\n",
                            "      <td>Alice's Adventures in Wonderland</td>\n",
                            "      <td>Lewis Carroll</td>\n",
                            "      <td>https://www.gutenberg.org/files/11/11-h/11-h.htm</td>\n",
                            "      <td>“Mine is a long and a sad tale!” said the Mous...</td>\n",
                            "    </tr>\n",
                            "    <tr>\n",
                            "      <th>2</th>\n",
                            "      <td>Frankenstein; Or, The Modern Prometheus</td>\n",
                            "      <td>Mary Wollstonecraft Shelley</td>\n",
                            "      <td>https://www.gutenberg.org/files/84/84-h/84-h.htm</td>\n",
                            "      <td>When my father returned from Milan, he found p...</td>\n",
                            "    </tr>\n",
                            "    <tr>\n",
                            "      <th>3</th>\n",
                            "      <td>The Adventures of Sherlock Holmes</td>\n",
                            "      <td>Arthur Conan Doyle</td>\n",
                            "      <td>https://www.gutenberg.org/files/1661/1661-h/16...</td>\n",
                            "      <td>“It must be recovered.” “We have tried and fai...</td>\n",
                            "    </tr>\n",
                            "    <tr>\n",
                            "      <th>4</th>\n",
                            "      <td>Moby Dick; Or, The Whale</td>\n",
                            "      <td>Herman Melville</td>\n",
                            "      <td>https://www.gutenberg.org/files/2701/2701-h/27...</td>\n",
                            "      <td>The pale Usher—threadbare in coat, heart, body...</td>\n",
                            "    </tr>\n",
                            "    <tr>\n",
                            "      <th>...</th>\n",
                            "      <td>...</td>\n",
                            "      <td>...</td>\n",
                            "      <td>...</td>\n",
                            "      <td>...</td>\n",
                            "    </tr>\n",
                            "    <tr>\n",
                            "      <th>95</th>\n",
                            "      <td>The Elements of Style</td>\n",
                            "      <td>William Strunk</td>\n",
                            "      <td>https://www.gutenberg.org/files/37134/37134-h/...</td>\n",
                            "      <td>It is nearly half past five. We cannot reach t...</td>\n",
                            "    </tr>\n",
                            "    <tr>\n",
                            "      <th>96</th>\n",
                            "      <td>Songs of Innocence, and Songs of Experience</td>\n",
                            "      <td>William Blake</td>\n",
                            "      <td>https://www.gutenberg.org/files/1934/1934-h/19...</td>\n",
                            "      <td>58 The Human Abstract 59 Infant Sorrow 61 A Po...</td>\n",
                            "    </tr>\n",
                            "    <tr>\n",
                            "      <th>97</th>\n",
                            "      <td>Pygmalion</td>\n",
                            "      <td>Bernard Shaw</td>\n",
                            "      <td>https://www.gutenberg.org/files/3825/3825-h/38...</td>\n",
                            "      <td>Titterings. Popular interest in the note taker...</td>\n",
                            "    </tr>\n",
                            "    <tr>\n",
                            "      <th>98</th>\n",
                            "      <td>Candide</td>\n",
                            "      <td>Voltaire</td>\n",
                            "      <td>https://www.gutenberg.org/files/19942/19942-h/...</td>\n",
                            "      <td>\"What can be the sufficient reason of this phe...</td>\n",
                            "    </tr>\n",
                            "    <tr>\n",
                            "      <th>99</th>\n",
                            "      <td>The Life and Adventures of Robinson Crusoe</td>\n",
                            "      <td>Daniel Defoe</td>\n",
                            "      <td>https://www.gutenberg.org/files/521/521-h/521-...</td>\n",
                            "      <td>This was game indeed to us, but this was no fo...</td>\n",
                            "    </tr>\n",
                            "  </tbody>\n",
                            "</table>\n",
                            "<p>100 rows × 4 columns</p>\n",
                            "</div>"
                        ],
                        "text/plain": [
                            "                                           book                       author  \\\n",
                            "0                           Pride and Prejudice                  Jane Austen   \n",
                            "1              Alice's Adventures in Wonderland                Lewis Carroll   \n",
                            "2       Frankenstein; Or, The Modern Prometheus  Mary Wollstonecraft Shelley   \n",
                            "3             The Adventures of Sherlock Holmes           Arthur Conan Doyle   \n",
                            "4                      Moby Dick; Or, The Whale              Herman Melville   \n",
                            "..                                          ...                          ...   \n",
                            "95                        The Elements of Style               William Strunk   \n",
                            "96  Songs of Innocence, and Songs of Experience                William Blake   \n",
                            "97                                    Pygmalion                 Bernard Shaw   \n",
                            "98                                      Candide                     Voltaire   \n",
                            "99   The Life and Adventures of Robinson Crusoe                 Daniel Defoe   \n",
                            "\n",
                            "                                                  url  \\\n",
                            "0   https://www.gutenberg.org/files/1342/1342-h/13...   \n",
                            "1    https://www.gutenberg.org/files/11/11-h/11-h.htm   \n",
                            "2    https://www.gutenberg.org/files/84/84-h/84-h.htm   \n",
                            "3   https://www.gutenberg.org/files/1661/1661-h/16...   \n",
                            "4   https://www.gutenberg.org/files/2701/2701-h/27...   \n",
                            "..                                                ...   \n",
                            "95  https://www.gutenberg.org/files/37134/37134-h/...   \n",
                            "96  https://www.gutenberg.org/files/1934/1934-h/19...   \n",
                            "97  https://www.gutenberg.org/files/3825/3825-h/38...   \n",
                            "98  https://www.gutenberg.org/files/19942/19942-h/...   \n",
                            "99  https://www.gutenberg.org/files/521/521-h/521-...   \n",
                            "\n",
                            "                                              excerpt  \n",
                            "0   When Jane and Elizabeth were alone, the former...  \n",
                            "1   “Mine is a long and a sad tale!” said the Mous...  \n",
                            "2   When my father returned from Milan, he found p...  \n",
                            "3   “It must be recovered.” “We have tried and fai...  \n",
                            "4   The pale Usher—threadbare in coat, heart, body...  \n",
                            "..                                                ...  \n",
                            "95  It is nearly half past five. We cannot reach t...  \n",
                            "96  58 The Human Abstract 59 Infant Sorrow 61 A Po...  \n",
                            "97  Titterings. Popular interest in the note taker...  \n",
                            "98  \"What can be the sufficient reason of this phe...  \n",
                            "99  This was game indeed to us, but this was no fo...  \n",
                            "\n",
                            "[100 rows x 4 columns]"
                        ]
                    },
                    "metadata": {},
                    "execution_count": 66
                }
            ],
            "metadata": {}
        },
        {
            "cell_type": "code",
            "execution_count": 67,
            "source": [
                "excerpt_list = gutenberg_df['excerpt'].tolist()\r\n",
                "#excerpt_list = [excerpt.replace('\\n', ' ') for excerpt in excerpt_list]"
            ],
            "outputs": [],
            "metadata": {}
        },
        {
            "cell_type": "code",
            "execution_count": 68,
            "source": [
                "MAX_LENGTH = 256\r\n",
                "tokenized_excerpts = tokenizer(excerpt_list, padding=\"max_length\", max_length=256, truncation=True, return_tensors=\"pt\")\r\n",
                "tokenized_excerpts"
            ],
            "outputs": [
                {
                    "output_type": "execute_result",
                    "data": {
                        "text/plain": [
                            "{'input_ids': tensor([[   0, 1779, 7343,  ...,    1,    1,    1],\n",
                            "        [   0,   17,   48,  ...,    1,    1,    1],\n",
                            "        [   0, 1779,  127,  ...,    1,    1,    1],\n",
                            "        ...,\n",
                            "        [   0,  565, 7915,  ...,    1,    1,    1],\n",
                            "        [   0,  113, 2264,  ...,    1,    1,    1],\n",
                            "        [   0,  713,   21,  ...,    1,    1,    1]]), 'attention_mask': tensor([[1, 1, 1,  ..., 0, 0, 0],\n",
                            "        [1, 1, 1,  ..., 0, 0, 0],\n",
                            "        [1, 1, 1,  ..., 0, 0, 0],\n",
                            "        ...,\n",
                            "        [1, 1, 1,  ..., 0, 0, 0],\n",
                            "        [1, 1, 1,  ..., 0, 0, 0],\n",
                            "        [1, 1, 1,  ..., 0, 0, 0]])}"
                        ]
                    },
                    "metadata": {},
                    "execution_count": 68
                }
            ],
            "metadata": {}
        },
        {
            "cell_type": "code",
            "execution_count": 69,
            "source": [
                "preds_list = []\r\n",
                "for i in range(len(excerpt_list)):\r\n",
                "    token_seq = tokenizer(excerpt_list[i], padding = \"max_length\", max_length=256, truncation=True, return_tensors=\"pt\")\r\n",
                "    preds = model(**token_seq).logits[0].item()\r\n",
                "    preds_list.append(preds)"
            ],
            "outputs": [],
            "metadata": {}
        },
        {
            "cell_type": "code",
            "execution_count": 71,
            "source": [
                "preds_list"
            ],
            "outputs": [
                {
                    "output_type": "execute_result",
                    "data": {
                        "text/plain": [
                            "[-0.15752682089805603,\n",
                            " 0.4902236759662628,\n",
                            " -0.7598305940628052,\n",
                            " 0.01562890037894249,\n",
                            " -2.137132406234741,\n",
                            " -0.2922174632549286,\n",
                            " 0.2898958921432495,\n",
                            " -2.342776298522949,\n",
                            " -0.11357664316892624,\n",
                            " -0.05659713223576546,\n",
                            " -0.15762488543987274,\n",
                            " -3.169496536254883,\n",
                            " 0.553392767906189,\n",
                            " -1.67536461353302,\n",
                            " 0.4439523220062256,\n",
                            " -0.9149787425994873,\n",
                            " -2.443272829055786,\n",
                            " -0.8899567127227783,\n",
                            " -1.6969496011734009,\n",
                            " -2.2286739349365234,\n",
                            " -0.08285431563854218,\n",
                            " -0.664053738117218,\n",
                            " -0.2971412241458893,\n",
                            " -0.6967737674713135,\n",
                            " -0.04978809133172035,\n",
                            " -0.17781071364879608,\n",
                            " -0.7128227353096008,\n",
                            " 0.5432456731796265,\n",
                            " -2.866455316543579,\n",
                            " -1.332999348640442,\n",
                            " -2.3190839290618896,\n",
                            " -2.1002449989318848,\n",
                            " -0.19599579274654388,\n",
                            " -0.32079029083251953,\n",
                            " -0.20038233697414398,\n",
                            " 0.09612865000963211,\n",
                            " -2.0747807025909424,\n",
                            " -0.8797600269317627,\n",
                            " -0.2424597293138504,\n",
                            " -0.9138988256454468,\n",
                            " -0.9937719106674194,\n",
                            " -2.566276788711548,\n",
                            " 0.06945429742336273,\n",
                            " -0.13268306851387024,\n",
                            " -2.410763740539551,\n",
                            " -0.19883200526237488,\n",
                            " -2.2575695514678955,\n",
                            " -0.6122678518295288,\n",
                            " 0.19445952773094177,\n",
                            " -0.35124537348747253,\n",
                            " -0.6346659660339355,\n",
                            " -0.45918765664100647,\n",
                            " -1.591584324836731,\n",
                            " -2.954007148742676,\n",
                            " -2.6926493644714355,\n",
                            " -0.2758396863937378,\n",
                            " -1.2698405981063843,\n",
                            " -2.0807223320007324,\n",
                            " -0.5237947106361389,\n",
                            " -0.3569258153438568,\n",
                            " -3.151048183441162,\n",
                            " -1.0331907272338867,\n",
                            " -0.8253211975097656,\n",
                            " -3.4817569255828857,\n",
                            " -0.3448850214481354,\n",
                            " -1.9314734935760498,\n",
                            " -0.10663334280252457,\n",
                            " -1.9859713315963745,\n",
                            " -1.8226643800735474,\n",
                            " -2.7405667304992676,\n",
                            " -1.801153302192688,\n",
                            " -1.0504873991012573,\n",
                            " -3.0762083530426025,\n",
                            " 0.46048152446746826,\n",
                            " -3.3543622493743896,\n",
                            " -2.084139108657837,\n",
                            " -1.6625783443450928,\n",
                            " -2.0361387729644775,\n",
                            " -0.648228645324707,\n",
                            " -3.0107812881469727,\n",
                            " -0.16591550409793854,\n",
                            " -1.9319818019866943,\n",
                            " -3.0020015239715576,\n",
                            " -0.914758026599884,\n",
                            " -2.4072694778442383,\n",
                            " -3.2736716270446777,\n",
                            " -3.453230857849121,\n",
                            " -0.4368583858013153,\n",
                            " -2.5090818405151367,\n",
                            " -0.6316556334495544,\n",
                            " -1.612000584602356,\n",
                            " -2.874889850616455,\n",
                            " -0.38125887513160706,\n",
                            " -2.7985448837280273,\n",
                            " -1.0397993326187134,\n",
                            " -1.605059266090393,\n",
                            " -1.7865864038467407,\n",
                            " -1.856245994567871,\n",
                            " -0.9563970565795898,\n",
                            " -0.5434986352920532]"
                        ]
                    },
                    "metadata": {},
                    "execution_count": 71
                }
            ],
            "metadata": {}
        },
        {
            "cell_type": "code",
            "execution_count": 72,
            "source": [
                "gutenberg_preds = pd.DataFrame({'book': gutenberg_df['book'],\r\n",
                "                                'author': gutenberg_df['author'],\r\n",
                "                                'url': gutenberg_df['url'],\r\n",
                "                                'excerpt': gutenberg_df['excerpt'],\r\n",
                "                                'target': preds_list})"
            ],
            "outputs": [],
            "metadata": {}
        },
        {
            "cell_type": "code",
            "execution_count": 56,
            "source": [
                "gutenberg_preds.to_csv('./Gutenberg-Predictions/gutenberg-predictions.csv', index = False, encoding = 'utf-8-sig')"
            ],
            "outputs": [],
            "metadata": {}
        }
    ],
    "metadata": {
        "orig_nbformat": 4,
        "language_info": {
            "name": "python",
            "version": "3.9.4",
            "mimetype": "text/x-python",
            "codemirror_mode": {
                "name": "ipython",
                "version": 3
            },
            "pygments_lexer": "ipython3",
            "nbconvert_exporter": "python",
            "file_extension": ".py"
        },
        "kernelspec": {
            "name": "python3",
            "display_name": "Python 3.9.4 64-bit"
        },
        "interpreter": {
            "hash": "5eb756464d92b1fba7c316c219a9aedd64e50b1f9cf7b2745bd052621490d6a2"
        }
    },
    "nbformat": 4,
    "nbformat_minor": 2
}