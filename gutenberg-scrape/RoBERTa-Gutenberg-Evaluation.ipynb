{
    "cells": [
        {
            "cell_type": "markdown",
            "source": [
                "### Import modules"
            ],
            "metadata": {}
        },
        {
            "cell_type": "code",
            "execution_count": 3,
            "source": [
                "from transformers import RobertaTokenizerFast, AutoModelForSequenceClassification\r\n",
                "import numpy as np \r\n",
                "import pandas as pd\r\n",
                "import torch"
            ],
            "outputs": [],
            "metadata": {}
        },
        {
            "cell_type": "markdown",
            "source": [
                "### Load tokenizer"
            ],
            "metadata": {}
        },
        {
            "cell_type": "code",
            "execution_count": 4,
            "source": [
                "tokenizer = RobertaTokenizerFast.from_pretrained(\"./Commonlit-RoBERTa-Base/tokenizer\")"
            ],
            "outputs": [
                {
                    "output_type": "stream",
                    "name": "stderr",
                    "text": [
                        "file ./Commonlit-RoBERTa-Base/tokenizer\\config.json not found\n"
                    ]
                }
            ],
            "metadata": {}
        },
        {
            "cell_type": "markdown",
            "source": [
                "### Load model"
            ],
            "metadata": {}
        },
        {
            "cell_type": "code",
            "execution_count": 5,
            "source": [
                "model = AutoModelForSequenceClassification.from_pretrained(\"./Commonlit-RoBERTa-Base\")"
            ],
            "outputs": [],
            "metadata": {}
        },
        {
            "cell_type": "markdown",
            "source": [
                "### Display sample data from excerpts CSV"
            ],
            "metadata": {}
        },
        {
            "cell_type": "code",
            "execution_count": 6,
            "source": [
                "# Change file name according to which csv to use\r\n",
                "gutenberg_df = pd.read_csv('./Gutenberg-Excerpts/gutenberg-excerpts-3.csv') \r\n",
                "gutenberg_df"
            ],
            "outputs": [
                {
                    "output_type": "execute_result",
                    "data": {
                        "text/html": [
                            "<div>\n",
                            "<style scoped>\n",
                            "    .dataframe tbody tr th:only-of-type {\n",
                            "        vertical-align: middle;\n",
                            "    }\n",
                            "\n",
                            "    .dataframe tbody tr th {\n",
                            "        vertical-align: top;\n",
                            "    }\n",
                            "\n",
                            "    .dataframe thead th {\n",
                            "        text-align: right;\n",
                            "    }\n",
                            "</style>\n",
                            "<table border=\"1\" class=\"dataframe\">\n",
                            "  <thead>\n",
                            "    <tr style=\"text-align: right;\">\n",
                            "      <th></th>\n",
                            "      <th>book</th>\n",
                            "      <th>author</th>\n",
                            "      <th>url</th>\n",
                            "      <th>excerpt</th>\n",
                            "    </tr>\n",
                            "  </thead>\n",
                            "  <tbody>\n",
                            "    <tr>\n",
                            "      <th>0</th>\n",
                            "      <td>Pride and Prejudice</td>\n",
                            "      <td>Jane Austen</td>\n",
                            "      <td>https://www.gutenberg.org/files/1342/1342-h/13...</td>\n",
                            "      <td>“And yours,” he replied with a smile, “is will...</td>\n",
                            "    </tr>\n",
                            "    <tr>\n",
                            "      <th>1</th>\n",
                            "      <td>Frankenstein; Or, The Modern Prometheus</td>\n",
                            "      <td>Mary Wollstonecraft Shelley</td>\n",
                            "      <td>https://www.gutenberg.org/files/84/84-h/84-h.htm</td>\n",
                            "      <td>My present situation was one in which all volu...</td>\n",
                            "    </tr>\n",
                            "    <tr>\n",
                            "      <th>2</th>\n",
                            "      <td>Alice's Adventures in Wonderland</td>\n",
                            "      <td>Lewis Carroll</td>\n",
                            "      <td>https://www.gutenberg.org/files/11/11-h/11-h.htm</td>\n",
                            "      <td>“One side of what? The other side of what?” th...</td>\n",
                            "    </tr>\n",
                            "    <tr>\n",
                            "      <th>3</th>\n",
                            "      <td>The Adventures of Sherlock Holmes</td>\n",
                            "      <td>Arthur Conan Doyle</td>\n",
                            "      <td>https://www.gutenberg.org/files/1661/1661-h/16...</td>\n",
                            "      <td>“And how have you succeeded?” “Well.” “You hav...</td>\n",
                            "    </tr>\n",
                            "    <tr>\n",
                            "      <th>4</th>\n",
                            "      <td>Moby Dick; Or, The Whale</td>\n",
                            "      <td>Herman Melville</td>\n",
                            "      <td>https://www.gutenberg.org/files/2701/2701-h/27...</td>\n",
                            "      <td>Now comes the Baling of the Case. But to compr...</td>\n",
                            "    </tr>\n",
                            "    <tr>\n",
                            "      <th>...</th>\n",
                            "      <td>...</td>\n",
                            "      <td>...</td>\n",
                            "      <td>...</td>\n",
                            "      <td>...</td>\n",
                            "    </tr>\n",
                            "    <tr>\n",
                            "      <th>95</th>\n",
                            "      <td>Candide</td>\n",
                            "      <td>Voltaire</td>\n",
                            "      <td>https://www.gutenberg.org/files/19942/19942-h/...</td>\n",
                            "      <td>\"Yet again!\" said Cunegonde, \"now there is no ...</td>\n",
                            "    </tr>\n",
                            "    <tr>\n",
                            "      <th>96</th>\n",
                            "      <td>The Elements of Style</td>\n",
                            "      <td>William Strunk</td>\n",
                            "      <td>https://www.gutenberg.org/files/37134/37134-h/...</td>\n",
                            "      <td>15. But though they had been victorious in the...</td>\n",
                            "    </tr>\n",
                            "    <tr>\n",
                            "      <th>97</th>\n",
                            "      <td>A Pickle for the Knowing Ones</td>\n",
                            "      <td>Timothy Dexter</td>\n",
                            "      <td>https://www.gutenberg.org/files/43453/43453-h/...</td>\n",
                            "      <td>The follering peases are not my Riting but ver...</td>\n",
                            "    </tr>\n",
                            "    <tr>\n",
                            "      <th>98</th>\n",
                            "      <td>The History of the Peloponnesian War</td>\n",
                            "      <td>Thucydides</td>\n",
                            "      <td>https://www.gutenberg.org/ebooks/7142.html.images</td>\n",
                            "      <td>The battle was fought at Tanagra in Boeotia. A...</td>\n",
                            "    </tr>\n",
                            "    <tr>\n",
                            "      <th>99</th>\n",
                            "      <td>Pygmalion</td>\n",
                            "      <td>Bernard Shaw</td>\n",
                            "      <td>https://www.gutenberg.org/files/3825/3825-h/38...</td>\n",
                            "      <td>I am myself a student of Indian dialects; and—...</td>\n",
                            "    </tr>\n",
                            "  </tbody>\n",
                            "</table>\n",
                            "<p>100 rows × 4 columns</p>\n",
                            "</div>"
                        ],
                        "text/plain": [
                            "                                       book                       author  \\\n",
                            "0                       Pride and Prejudice                  Jane Austen   \n",
                            "1   Frankenstein; Or, The Modern Prometheus  Mary Wollstonecraft Shelley   \n",
                            "2          Alice's Adventures in Wonderland                Lewis Carroll   \n",
                            "3         The Adventures of Sherlock Holmes           Arthur Conan Doyle   \n",
                            "4                  Moby Dick; Or, The Whale              Herman Melville   \n",
                            "..                                      ...                          ...   \n",
                            "95                                  Candide                     Voltaire   \n",
                            "96                    The Elements of Style               William Strunk   \n",
                            "97            A Pickle for the Knowing Ones               Timothy Dexter   \n",
                            "98     The History of the Peloponnesian War                   Thucydides   \n",
                            "99                                Pygmalion                 Bernard Shaw   \n",
                            "\n",
                            "                                                  url  \\\n",
                            "0   https://www.gutenberg.org/files/1342/1342-h/13...   \n",
                            "1    https://www.gutenberg.org/files/84/84-h/84-h.htm   \n",
                            "2    https://www.gutenberg.org/files/11/11-h/11-h.htm   \n",
                            "3   https://www.gutenberg.org/files/1661/1661-h/16...   \n",
                            "4   https://www.gutenberg.org/files/2701/2701-h/27...   \n",
                            "..                                                ...   \n",
                            "95  https://www.gutenberg.org/files/19942/19942-h/...   \n",
                            "96  https://www.gutenberg.org/files/37134/37134-h/...   \n",
                            "97  https://www.gutenberg.org/files/43453/43453-h/...   \n",
                            "98  https://www.gutenberg.org/ebooks/7142.html.images   \n",
                            "99  https://www.gutenberg.org/files/3825/3825-h/38...   \n",
                            "\n",
                            "                                              excerpt  \n",
                            "0   “And yours,” he replied with a smile, “is will...  \n",
                            "1   My present situation was one in which all volu...  \n",
                            "2   “One side of what? The other side of what?” th...  \n",
                            "3   “And how have you succeeded?” “Well.” “You hav...  \n",
                            "4   Now comes the Baling of the Case. But to compr...  \n",
                            "..                                                ...  \n",
                            "95  \"Yet again!\" said Cunegonde, \"now there is no ...  \n",
                            "96  15. But though they had been victorious in the...  \n",
                            "97  The follering peases are not my Riting but ver...  \n",
                            "98  The battle was fought at Tanagra in Boeotia. A...  \n",
                            "99  I am myself a student of Indian dialects; and—...  \n",
                            "\n",
                            "[100 rows x 4 columns]"
                        ]
                    },
                    "metadata": {},
                    "execution_count": 6
                }
            ],
            "metadata": {}
        },
        {
            "cell_type": "markdown",
            "source": [
                "### Compute predictions based on a range of excerpt CSV files and save predictions as CSV"
            ],
            "metadata": {}
        },
        {
            "cell_type": "code",
            "execution_count": 7,
            "source": [
                "# Maximum length for token sequence\r\n",
                "MAX_LENGTH = 256\r\n",
                "\r\n",
                "# Iterate through each excerpt file\r\n",
                "for i in range (6,7):\r\n",
                "    # Load excerpt file into DataFrame\r\n",
                "    gutenberg_df = pd.read_csv('./Gutenberg-Excerpts/gutenberg-excerpts-' + str(i) + '.csv') \r\n",
                "    # Convert excerpts to list\r\n",
                "    excerpt_list = gutenberg_df['excerpt'].tolist()\r\n",
                "    # Initialise predictions list\r\n",
                "    preds_list = []\r\n",
                "\r\n",
                "    # Repeat through each excerpt and compute predictions\r\n",
                "    for j in range(len(excerpt_list)):\r\n",
                "        token_seq = tokenizer(excerpt_list[j], padding = \"max_length\", max_length=MAX_LENGTH, truncation=True, return_tensors=\"pt\")\r\n",
                "        preds = model(**token_seq).logits[0].item()\r\n",
                "        preds_list.append(preds)\r\n",
                "    \r\n",
                "    # Create dataframe from the predictions in order to convert to CSV\r\n",
                "    gutenberg_preds = pd.DataFrame({'book': gutenberg_df['book'],\r\n",
                "                                'author': gutenberg_df['author'],\r\n",
                "                                'url': gutenberg_df['url'],\r\n",
                "                                'excerpt': gutenberg_df['excerpt'],\r\n",
                "                                'target': preds_list})\r\n",
                "\r\n",
                "    # Save predictions as CSV\r\n",
                "    gutenberg_preds.to_csv('./Gutenberg-Predictions/gutenberg-predictions-' + str(i) + '.csv', index = False, encoding = 'utf-8-sig')"
            ],
            "outputs": [],
            "metadata": {}
        }
    ],
    "metadata": {
        "orig_nbformat": 4,
        "language_info": {
            "name": "python",
            "version": "3.9.4",
            "mimetype": "text/x-python",
            "codemirror_mode": {
                "name": "ipython",
                "version": 3
            },
            "pygments_lexer": "ipython3",
            "nbconvert_exporter": "python",
            "file_extension": ".py"
        },
        "kernelspec": {
            "name": "python3",
            "display_name": "Python 3.9.4 64-bit"
        },
        "interpreter": {
            "hash": "5eb756464d92b1fba7c316c219a9aedd64e50b1f9cf7b2745bd052621490d6a2"
        }
    },
    "nbformat": 4,
    "nbformat_minor": 2
}