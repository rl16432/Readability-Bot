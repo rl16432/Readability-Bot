{
    "cells": [
        {
            "cell_type": "markdown",
            "source": [
                "### Install azureml library"
            ],
            "metadata": {
                "id": "TTg8xWWuUtDq"
            }
        },
        {
            "cell_type": "code",
            "execution_count": null,
            "source": [
                "! pip install azureml-core"
            ],
            "outputs": [
                {
                    "output_type": "stream",
                    "name": "stdout",
                    "text": [
                        "Collecting azureml-core\n",
                        "  Downloading azureml_core-1.33.0.post1-py3-none-any.whl (2.2 MB)\n",
                        "\u001b[K     |████████████████████████████████| 2.2 MB 5.3 MB/s \n",
                        "\u001b[?25hCollecting PyJWT<3.0.0\n",
                        "  Downloading PyJWT-2.1.0-py3-none-any.whl (16 kB)\n",
                        "Collecting ruamel.yaml<0.17.5,>=0.15.35\n",
                        "  Downloading ruamel.yaml-0.17.4-py3-none-any.whl (101 kB)\n",
                        "\u001b[K     |████████████████████████████████| 101 kB 9.5 MB/s \n",
                        "\u001b[?25hCollecting msrest<1.0.0,>=0.5.1\n",
                        "  Downloading msrest-0.6.21-py2.py3-none-any.whl (85 kB)\n",
                        "\u001b[K     |████████████████████████████████| 85 kB 3.5 MB/s \n",
                        "\u001b[?25hCollecting jmespath<1.0.0\n",
                        "  Downloading jmespath-0.10.0-py2.py3-none-any.whl (24 kB)\n",
                        "Collecting SecretStorage<4.0.0\n",
                        "  Downloading SecretStorage-3.3.1-py3-none-any.whl (15 kB)\n",
                        "Requirement already satisfied: contextlib2<1.0.0 in /usr/local/lib/python3.7/dist-packages (from azureml-core) (0.5.5)\n",
                        "Requirement already satisfied: pytz in /usr/local/lib/python3.7/dist-packages (from azureml-core) (2018.9)\n",
                        "Requirement already satisfied: requests<3.0.0,>=2.19.1 in /usr/local/lib/python3.7/dist-packages (from azureml-core) (2.23.0)\n",
                        "Collecting ndg-httpsclient<=0.5.1\n",
                        "  Downloading ndg_httpsclient-0.5.1-py3-none-any.whl (34 kB)\n",
                        "Collecting pathspec<1.0.0\n",
                        "  Downloading pathspec-0.9.0-py2.py3-none-any.whl (31 kB)\n",
                        "Collecting backports.tempfile\n",
                        "  Downloading backports.tempfile-1.0-py2.py3-none-any.whl (4.4 kB)\n",
                        "Collecting azure-mgmt-storage<16.0.0,>=1.5.0\n",
                        "  Downloading azure_mgmt_storage-11.2.0-py2.py3-none-any.whl (547 kB)\n",
                        "\u001b[K     |████████████████████████████████| 547 kB 45.9 MB/s \n",
                        "\u001b[?25hCollecting msrestazure<=0.6.4,>=0.4.33\n",
                        "  Downloading msrestazure-0.6.4-py2.py3-none-any.whl (40 kB)\n",
                        "\u001b[K     |████████████████████████████████| 40 kB 4.6 MB/s \n",
                        "\u001b[?25hCollecting jsonpickle<3.0.0\n",
                        "  Downloading jsonpickle-2.0.0-py2.py3-none-any.whl (37 kB)\n",
                        "Collecting docker<5.0.0\n",
                        "  Downloading docker-4.4.4-py2.py3-none-any.whl (147 kB)\n",
                        "\u001b[K     |████████████████████████████████| 147 kB 51.5 MB/s \n",
                        "\u001b[?25hCollecting pyopenssl<21.0.0\n",
                        "  Downloading pyOpenSSL-20.0.1-py2.py3-none-any.whl (54 kB)\n",
                        "\u001b[K     |████████████████████████████████| 54 kB 2.3 MB/s \n",
                        "\u001b[?25hCollecting azure-mgmt-keyvault<10.0.0,>=0.40.0\n",
                        "  Downloading azure_mgmt_keyvault-9.0.0-py2.py3-none-any.whl (312 kB)\n",
                        "\u001b[K     |████████████████████████████████| 312 kB 46.8 MB/s \n",
                        "\u001b[?25hRequirement already satisfied: urllib3<=1.26.5,>=1.23 in /usr/local/lib/python3.7/dist-packages (from azureml-core) (1.24.3)\n",
                        "Collecting azure-mgmt-containerregistry>=2.0.0\n",
                        "  Downloading azure_mgmt_containerregistry-8.1.0-py2.py3-none-any.whl (796 kB)\n",
                        "\u001b[K     |████████████████████████████████| 796 kB 46.7 MB/s \n",
                        "\u001b[?25hCollecting cryptography!=1.9,!=2.0.*,!=2.1.*,!=2.2.*,<4.0.0\n",
                        "  Downloading cryptography-3.4.8-cp36-abi3-manylinux_2_24_x86_64.whl (3.0 MB)\n",
                        "\u001b[K     |████████████████████████████████| 3.0 MB 22.8 MB/s \n",
                        "\u001b[?25hCollecting azure-mgmt-resource<15.0.0,>=1.2.1\n",
                        "  Downloading azure_mgmt_resource-13.0.0-py2.py3-none-any.whl (1.3 MB)\n",
                        "\u001b[K     |████████████████████████████████| 1.3 MB 31.2 MB/s \n",
                        "\u001b[?25hRequirement already satisfied: python-dateutil<3.0.0,>=2.7.3 in /usr/local/lib/python3.7/dist-packages (from azureml-core) (2.8.2)\n",
                        "Collecting azure-mgmt-authorization<1.0.0,>=0.40.0\n",
                        "  Downloading azure_mgmt_authorization-0.61.0-py2.py3-none-any.whl (94 kB)\n",
                        "\u001b[K     |████████████████████████████████| 94 kB 2.6 MB/s \n",
                        "\u001b[?25hCollecting azure-common<2.0.0,>=1.1.12\n",
                        "  Downloading azure_common-1.1.27-py2.py3-none-any.whl (12 kB)\n",
                        "Collecting azure-graphrbac<1.0.0,>=0.40.0\n",
                        "  Downloading azure_graphrbac-0.61.1-py2.py3-none-any.whl (141 kB)\n",
                        "\u001b[K     |████████████████████████████████| 141 kB 46.5 MB/s \n",
                        "\u001b[?25hCollecting adal<=1.2.7,>=1.2.0\n",
                        "  Downloading adal-1.2.7-py2.py3-none-any.whl (55 kB)\n",
                        "\u001b[K     |████████████████████████████████| 55 kB 3.1 MB/s \n",
                        "\u001b[?25hCollecting azure-mgmt-core<2.0.0,>=1.2.0\n",
                        "  Downloading azure_mgmt_core-1.3.0-py2.py3-none-any.whl (25 kB)\n",
                        "Collecting azure-core<2.0.0,>=1.15.0\n",
                        "  Downloading azure_core-1.17.0-py2.py3-none-any.whl (165 kB)\n",
                        "\u001b[K     |████████████████████████████████| 165 kB 47.4 MB/s \n",
                        "\u001b[?25hRequirement already satisfied: six>=1.11.0 in /usr/local/lib/python3.7/dist-packages (from azure-core<2.0.0,>=1.15.0->azure-mgmt-core<2.0.0,>=1.2.0->azure-mgmt-containerregistry>=2.0.0->azureml-core) (1.15.0)\n",
                        "Requirement already satisfied: cffi>=1.12 in /usr/local/lib/python3.7/dist-packages (from cryptography!=1.9,!=2.0.*,!=2.1.*,!=2.2.*,<4.0.0->azureml-core) (1.14.6)\n",
                        "Requirement already satisfied: pycparser in /usr/local/lib/python3.7/dist-packages (from cffi>=1.12->cryptography!=1.9,!=2.0.*,!=2.1.*,!=2.2.*,<4.0.0->azureml-core) (2.20)\n",
                        "Collecting websocket-client>=0.32.0\n",
                        "  Downloading websocket_client-1.2.1-py2.py3-none-any.whl (52 kB)\n",
                        "\u001b[K     |████████████████████████████████| 52 kB 1.2 MB/s \n",
                        "\u001b[?25hRequirement already satisfied: importlib-metadata in /usr/local/lib/python3.7/dist-packages (from jsonpickle<3.0.0->azureml-core) (4.6.4)\n",
                        "Requirement already satisfied: requests-oauthlib>=0.5.0 in /usr/local/lib/python3.7/dist-packages (from msrest<1.0.0,>=0.5.1->azureml-core) (1.3.0)\n",
                        "Collecting isodate>=0.6.0\n",
                        "  Downloading isodate-0.6.0-py2.py3-none-any.whl (45 kB)\n",
                        "\u001b[K     |████████████████████████████████| 45 kB 2.9 MB/s \n",
                        "\u001b[?25hRequirement already satisfied: certifi>=2017.4.17 in /usr/local/lib/python3.7/dist-packages (from msrest<1.0.0,>=0.5.1->azureml-core) (2021.5.30)\n",
                        "Requirement already satisfied: pyasn1>=0.1.1 in /usr/local/lib/python3.7/dist-packages (from ndg-httpsclient<=0.5.1->azureml-core) (0.4.8)\n",
                        "Requirement already satisfied: idna<3,>=2.5 in /usr/local/lib/python3.7/dist-packages (from requests<3.0.0,>=2.19.1->azureml-core) (2.10)\n",
                        "Requirement already satisfied: chardet<4,>=3.0.2 in /usr/local/lib/python3.7/dist-packages (from requests<3.0.0,>=2.19.1->azureml-core) (3.0.4)\n",
                        "Requirement already satisfied: oauthlib>=3.0.0 in /usr/local/lib/python3.7/dist-packages (from requests-oauthlib>=0.5.0->msrest<1.0.0,>=0.5.1->azureml-core) (3.1.1)\n",
                        "Collecting ruamel.yaml.clib>=0.1.2\n",
                        "  Downloading ruamel.yaml.clib-0.2.6-cp37-cp37m-manylinux1_x86_64.whl (546 kB)\n",
                        "\u001b[K     |████████████████████████████████| 546 kB 2.3 MB/s \n",
                        "\u001b[?25hCollecting jeepney>=0.6\n",
                        "  Downloading jeepney-0.7.1-py3-none-any.whl (54 kB)\n",
                        "\u001b[K     |████████████████████████████████| 54 kB 2.0 MB/s \n",
                        "\u001b[?25hCollecting backports.weakref\n",
                        "  Downloading backports.weakref-1.0.post1-py2.py3-none-any.whl (5.2 kB)\n",
                        "Requirement already satisfied: typing-extensions>=3.6.4 in /usr/local/lib/python3.7/dist-packages (from importlib-metadata->jsonpickle<3.0.0->azureml-core) (3.7.4.3)\n",
                        "Requirement already satisfied: zipp>=0.5 in /usr/local/lib/python3.7/dist-packages (from importlib-metadata->jsonpickle<3.0.0->azureml-core) (3.5.0)\n",
                        "Installing collected packages: PyJWT, isodate, cryptography, msrest, azure-core, adal, websocket-client, ruamel.yaml.clib, pyopenssl, msrestazure, jeepney, backports.weakref, azure-mgmt-core, azure-common, SecretStorage, ruamel.yaml, pathspec, ndg-httpsclient, jsonpickle, jmespath, docker, backports.tempfile, azure-mgmt-storage, azure-mgmt-resource, azure-mgmt-keyvault, azure-mgmt-containerregistry, azure-mgmt-authorization, azure-graphrbac, azureml-core\n",
                        "Successfully installed PyJWT-2.1.0 SecretStorage-3.3.1 adal-1.2.7 azure-common-1.1.27 azure-core-1.17.0 azure-graphrbac-0.61.1 azure-mgmt-authorization-0.61.0 azure-mgmt-containerregistry-8.1.0 azure-mgmt-core-1.3.0 azure-mgmt-keyvault-9.0.0 azure-mgmt-resource-13.0.0 azure-mgmt-storage-11.2.0 azureml-core-1.33.0.post1 backports.tempfile-1.0 backports.weakref-1.0.post1 cryptography-3.4.8 docker-4.4.4 isodate-0.6.0 jeepney-0.7.1 jmespath-0.10.0 jsonpickle-2.0.0 msrest-0.6.21 msrestazure-0.6.4 ndg-httpsclient-0.5.1 pathspec-0.9.0 pyopenssl-20.0.1 ruamel.yaml-0.17.4 ruamel.yaml.clib-0.2.6 websocket-client-1.2.1\n"
                    ]
                }
            ],
            "metadata": {
                "colab": {
                    "base_uri": "https://localhost:8080/"
                },
                "id": "Xq157FQgnayO",
                "outputId": "aa9a14ba-afcc-4a74-d45c-f53b3ad2bd58"
            }
        },
        {
            "cell_type": "markdown",
            "source": [
                "### Create workspace from Azure Machine Learning workspace"
            ],
            "metadata": {
                "id": "SP5cQLx9Uop7"
            }
        },
        {
            "cell_type": "code",
            "execution_count": null,
            "source": [
                "from azureml.core import Workspace\r\n",
                "\r\n",
                "source_dir = \"./source_dir/\"\r\n",
                "\r\n",
                "ws = Workspace.from_config(path = source_dir + \"config.json\")\r\n",
                "print(ws)"
            ],
            "outputs": [
                {
                    "output_type": "stream",
                    "name": "stdout",
                    "text": [
                        "Performing interactive authentication. Please follow the instructions on the terminal.\n",
                        "To sign in, use a web browser to open the page https://microsoft.com/devicelogin and enter the code EBFWUVXC8 to authenticate.\n",
                        "You have logged in. Now let us find all the subscriptions to which you have access...\n",
                        "Interactive authentication successfully completed.\n",
                        "Workspace.create(name='Test-Deployment-Space', subscription_id='9d7c60f0-d3e1-49c3-b70b-080e861838c1', resource_group='Test-Deployment')\n"
                    ]
                }
            ],
            "metadata": {
                "colab": {
                    "base_uri": "https://localhost:8080/"
                },
                "id": "P-kDETxkozhl",
                "outputId": "c629a54d-e0e8-4ab7-e535-b4d9a478658c"
            }
        },
        {
            "cell_type": "markdown",
            "source": [
                "### Import libraries"
            ],
            "metadata": {}
        },
        {
            "cell_type": "code",
            "execution_count": 17,
            "source": [
                "import numpy as np # linear algebra\r\n",
                "import pandas as pd # data processing, CSV file I/O (e.g. pd.read_csv)\r\n",
                "import os\r\n",
                "import json\r\n",
                "\r\n",
                "import tensorflow as tf"
            ],
            "outputs": [],
            "metadata": {}
        },
        {
            "cell_type": "markdown",
            "source": [
                "### Load tokenizer from saved tokenizer"
            ],
            "metadata": {}
        },
        {
            "cell_type": "code",
            "execution_count": 18,
            "source": [
                "with open(os.path.join('./outputs/model1/assets/tokenizer.json')) as f:\r\n",
                "    data = json.load(f)\r\n",
                "    tokenizer = tf.keras.preprocessing.text.tokenizer_from_json(data)"
            ],
            "outputs": [],
            "metadata": {}
        },
        {
            "cell_type": "markdown",
            "source": [
                "### Load the maximum sequence length from all the Commonlit provided excerpts stored in txt file"
            ],
            "metadata": {}
        },
        {
            "cell_type": "code",
            "execution_count": 20,
            "source": [
                "with open('./outputs/model1/assets/max_length.txt', 'r') as text:\r\n",
                "    max_length = int(text.read())"
            ],
            "outputs": [],
            "metadata": {}
        },
        {
            "cell_type": "markdown",
            "source": [
                "### Test loading of pre-trained model"
            ],
            "metadata": {
                "id": "-WHHo-0TUiQU"
            }
        },
        {
            "cell_type": "code",
            "execution_count": 21,
            "source": [
                "model_load = tf.keras.models.load_model('./outputs/model1')\r\n",
                "model_load.summary()"
            ],
            "outputs": [
                {
                    "output_type": "stream",
                    "name": "stdout",
                    "text": [
                        "Model: \"sequential\"\n",
                        "_________________________________________________________________\n",
                        "Layer (type)                 Output Shape              Param #   \n",
                        "=================================================================\n",
                        "embedding (Embedding)        (None, 215, 90)           2581650   \n",
                        "_________________________________________________________________\n",
                        "bidirectional (Bidirectional (None, 256)               224256    \n",
                        "_________________________________________________________________\n",
                        "dense (Dense)                (None, 1)                 257       \n",
                        "=================================================================\n",
                        "Total params: 2,806,163\n",
                        "Trainable params: 2,806,163\n",
                        "Non-trainable params: 0\n",
                        "_________________________________________________________________\n"
                    ]
                }
            ],
            "metadata": {
                "colab": {
                    "base_uri": "https://localhost:8080/"
                },
                "id": "NUtLmcMWZhru",
                "outputId": "ccaa2938-0d2d-4a96-8428-e61c3c2b197b"
            }
        },
        {
            "cell_type": "code",
            "execution_count": 22,
            "source": [
                "from tensorflow.python.keras.preprocessing.sequence import pad_sequences\r\n",
                "pred_tokens = tokenizer.texts_to_sequences(pred_text)\r\n",
                "pad_pred_tokens = pad_sequences(pred_tokens, maxlen=max_length, padding = 'pre')"
            ],
            "outputs": [],
            "metadata": {}
        },
        {
            "cell_type": "markdown",
            "source": [
                "### Make predictions and store in np.ndarray"
            ],
            "metadata": {
                "id": "iMV5IWD5Sizm"
            }
        },
        {
            "cell_type": "code",
            "execution_count": 23,
            "source": [
                "test_preds = model_load.predict(x = pad_pred_tokens)\r\n",
                "test_preds"
            ],
            "outputs": [
                {
                    "output_type": "execute_result",
                    "data": {
                        "text/plain": [
                            "array([[-1.2834516 ],\n",
                            "       [-0.22421896],\n",
                            "       [-0.595436  ],\n",
                            "       [-2.2895405 ],\n",
                            "       [-1.713674  ],\n",
                            "       [-0.2228559 ],\n",
                            "       [-0.02093622]], dtype=float32)"
                        ]
                    },
                    "metadata": {},
                    "execution_count": 23
                }
            ],
            "metadata": {
                "colab": {
                    "base_uri": "https://localhost:8080/"
                },
                "id": "IC_DN6nHa1m_",
                "outputId": "2aab887c-0cae-40c2-fa35-45d4060b1e69"
            }
        },
        {
            "cell_type": "markdown",
            "source": [
                "### Convert to list of labels of type 'float'"
            ],
            "metadata": {
                "id": "Z_DtrU5pSpLe"
            }
        },
        {
            "cell_type": "code",
            "execution_count": 24,
            "source": [
                "test_preds_list = test_preds.flatten().tolist()\r\n",
                "test_preds_list"
            ],
            "outputs": [
                {
                    "output_type": "execute_result",
                    "data": {
                        "text/plain": [
                            "[-1.2834515571594238,\n",
                            " -0.2242189645767212,\n",
                            " -0.5954359769821167,\n",
                            " -2.2895405292510986,\n",
                            " -1.7136739492416382,\n",
                            " -0.22285589575767517,\n",
                            " -0.02093621902167797]"
                        ]
                    },
                    "metadata": {},
                    "execution_count": 24
                }
            ],
            "metadata": {
                "id": "7__KUQ5OI5Fe"
            }
        },
        {
            "cell_type": "markdown",
            "source": [
                "### Register saved model on Azure"
            ],
            "metadata": {
                "id": "7miGRWMuS1yD"
            }
        },
        {
            "cell_type": "code",
            "execution_count": 10,
            "source": [
                "from azureml.core.model import Model\r\n",
                "\r\n",
                "# Register model\r\n",
                "model = Model.register(ws, model_name = \"Commonlit-BiLSTM-Seed3\", model_path = \"./outputs/model1\")"
            ],
            "outputs": [
                {
                    "output_type": "error",
                    "ename": "NameError",
                    "evalue": "name 'ws' is not defined",
                    "traceback": [
                        "\u001b[1;31m---------------------------------------------------------------------------\u001b[0m",
                        "\u001b[1;31mNameError\u001b[0m                                 Traceback (most recent call last)",
                        "\u001b[1;32m<ipython-input-10-5577f52bdd81>\u001b[0m in \u001b[0;36m<module>\u001b[1;34m\u001b[0m\n\u001b[0;32m      2\u001b[0m \u001b[1;33m\u001b[0m\u001b[0m\n\u001b[0;32m      3\u001b[0m \u001b[1;31m# Register model\u001b[0m\u001b[1;33m\u001b[0m\u001b[1;33m\u001b[0m\u001b[1;33m\u001b[0m\u001b[0m\n\u001b[1;32m----> 4\u001b[1;33m \u001b[0mmodel\u001b[0m \u001b[1;33m=\u001b[0m \u001b[0mModel\u001b[0m\u001b[1;33m.\u001b[0m\u001b[0mregister\u001b[0m\u001b[1;33m(\u001b[0m\u001b[0mws\u001b[0m\u001b[1;33m,\u001b[0m \u001b[0mmodel_name\u001b[0m \u001b[1;33m=\u001b[0m \u001b[1;34m\"Commonlit-BiLSTM-Seed3\"\u001b[0m\u001b[1;33m,\u001b[0m \u001b[0mmodel_path\u001b[0m \u001b[1;33m=\u001b[0m \u001b[1;34m\"./outputs/model1\"\u001b[0m\u001b[1;33m)\u001b[0m\u001b[1;33m\u001b[0m\u001b[1;33m\u001b[0m\u001b[0m\n\u001b[0m",
                        "\u001b[1;31mNameError\u001b[0m: name 'ws' is not defined"
                    ]
                }
            ],
            "metadata": {
                "colab": {
                    "base_uri": "https://localhost:8080/"
                },
                "id": "QsvHpWvazEGE",
                "outputId": "8329301d-e2de-4085-ea21-f7688f1db05d"
            }
        },
        {
            "cell_type": "markdown",
            "source": [
                "### Create environment with necessary dependencies"
            ],
            "metadata": {
                "id": "k8tvXAI7S8x4"
            }
        },
        {
            "cell_type": "code",
            "execution_count": null,
            "source": [
                "from azureml.core import Environment\r\n",
                "from azureml.core.conda_dependencies import CondaDependencies\r\n",
                "from azureml.core.model import InferenceConfig\r\n",
                "\r\n",
                "env = Environment(name = \"commonlit-test-lstm\")\r\n",
                "conda_dep = CondaDependencies()\r\n",
                "conda_dep.add_conda_package(\"numpy\")\r\n",
                "conda_dep.add_pip_package(\"keras\")\r\n",
                "conda_dep.add_pip_package(\"pandas\")\r\n",
                "\r\n",
                "conda_dep.add_pip_package('tensorflow==2.6.0')\r\n",
                "conda_dep.add_pip_package('sklearn')\r\n",
                "\r\n",
                "conda_dep.add_pip_package(\"azureml-defaults\")\r\n",
                "conda_dep.add_pip_package(\"azureml\")\r\n",
                "conda_dep.add_pip_package(\"azureml-contrib-functions\")\r\n",
                "\r\n",
                "env.python.conda_dependencies = conda_dep"
            ],
            "outputs": [],
            "metadata": {
                "id": "HLtc2V-Z0xpU"
            }
        },
        {
            "cell_type": "markdown",
            "source": [
                "### Create inference configuration using scoring function"
            ],
            "metadata": {
                "id": "-Bd1dvM7TAta"
            }
        },
        {
            "cell_type": "code",
            "execution_count": null,
            "source": [
                "inference_config = InferenceConfig(\r\n",
                "    environment = env,\r\n",
                "    source_directory = \"./source_dir\",\r\n",
                "    entry_script = \"./echo_score.py\",\r\n",
                ")"
            ],
            "outputs": [],
            "metadata": {
                "id": "ndAkCFrC1bxO"
            }
        },
        {
            "cell_type": "markdown",
            "source": [
                "### Create Azure Container Instance and deploy model to container"
            ],
            "metadata": {
                "id": "jeqyOZoSTGjh"
            }
        },
        {
            "cell_type": "code",
            "execution_count": null,
            "source": [
                "from azureml.core.webservice import AciWebservice\r\n",
                "aci_config = AciWebservice.deploy_configuration(cpu_cores = 2, memory_gb = 2)\r\n",
                "service = Model.deploy(\r\n",
                "    ws,\r\n",
                "    \"commonlit-bilstm-seed3\",\r\n",
                "    [model],\r\n",
                "    inference_config,\r\n",
                "    aci_config,\r\n",
                "    overwrite = True,\r\n",
                ")\r\n",
                "service.wait_for_deployment(show_output = True)"
            ],
            "outputs": [
                {
                    "output_type": "stream",
                    "name": "stdout",
                    "text": [
                        "Tips: You can try get_logs(): https://aka.ms/debugimage#dockerlog or local deployment: https://aka.ms/debugimage#debug-locally to debug if deployment takes longer than 10 minutes.\n",
                        "Running\n",
                        "2021-08-27 02:00:02+00:00 Creating Container Registry if not exists.\n",
                        "2021-08-27 02:00:02+00:00 Registering the environment.\n",
                        "2021-08-27 02:00:05+00:00 Use the existing image.\n",
                        "2021-08-27 02:00:05+00:00 Generating deployment configuration.\n",
                        "2021-08-27 02:00:06+00:00 Submitting deployment to compute..\n",
                        "2021-08-27 02:00:10+00:00 Checking the status of deployment commonlit-bilstm-seed3..\n",
                        "2021-08-27 02:04:53+00:00 Checking the status of inference endpoint commonlit-bilstm-seed3.\n",
                        "Succeeded\n",
                        "ACI service creation operation finished, operation \"Succeeded\"\n"
                    ]
                }
            ],
            "metadata": {
                "colab": {
                    "base_uri": "https://localhost:8080/"
                },
                "id": "RK7dPjJr2YT_",
                "outputId": "5ed5394b-57be-436e-ceaa-55e94b85cea6"
            }
        },
        {
            "cell_type": "markdown",
            "source": [
                "### Endpoint Consumption - Test 1"
            ],
            "metadata": {
                "id": "panzXiIKTMz0"
            }
        },
        {
            "cell_type": "code",
            "execution_count": null,
            "source": [
                "import requests\r\n",
                "import json\r\n",
                "\r\n",
                "uri = service.scoring_uri\r\n",
                "requests.get(\"http://16705546-cea5-4e3e-99a7-6274ca5c4289.australiaeast.azurecontainer.io/score\")\r\n",
                "headers = {\"Content-Type\": \"application/json\"}\r\n",
                "data = {\r\n",
                "    'data': ['Cell division is the process by which a parent cell divides into two or more daughter cells. Cell division usually occurs as part of a larger cell cycle.\\n In eukaryotes, there are two distinct types of cell division: a vegetative division, whereby each daughter cell is genetically identical to the parent cell (mitosis), and a reproductive cell division, whereby the number of chromosomes in the daughter cells is reduced by half, to produce haploid gametes (meiosis). \\nMeiosis results in four haploid daughter cells by undergoing one round of DNA replication followed by two divisions: homologous chromosomes are separated in the first division, and sister chromatids are separated in the second division.\\nBoth of these cell division cycles are used in sexually reproducing organisms at some point in their life cycle, and both are believed to be present in the last eukaryotic common ancestor. Prokaryotes also undergo a vegetative cell division known as binary fission, where their genetic material is segregated equally into two daughter cells. All cell divisions, regardless of organism, are preceded by a single round of DNA replication.']\r\n",
                "}\r\n",
                "data = json.dumps(data)\r\n",
                "response = requests.post(uri, data = data, headers = headers)\r\n",
                "print(response.json())"
            ],
            "outputs": [
                {
                    "output_type": "stream",
                    "name": "stdout",
                    "text": [
                        "[-2.2895405292510986]\n"
                    ]
                }
            ],
            "metadata": {
                "id": "iquzod856XeP",
                "colab": {
                    "base_uri": "https://localhost:8080/"
                },
                "outputId": "56d44777-01d3-4ab5-b592-e0757ffbd7fd"
            }
        },
        {
            "cell_type": "markdown",
            "source": [
                "### Endpoint Consumption - Test 2"
            ],
            "metadata": {
                "id": "UN-EdJ4DTQdF"
            }
        },
        {
            "cell_type": "code",
            "execution_count": 11,
            "source": [
                "import urllib.request\r\n",
                "import json\r\n",
                "import os\r\n",
                "import ssl\r\n",
                "\r\n",
                "def allowSelfSignedHttps(allowed):\r\n",
                "    # bypass the server certificate verification on client side\r\n",
                "    if allowed and not os.environ.get('PYTHONHTTPSVERIFY', '') and getattr(ssl, '_create_unverified_context', None):\r\n",
                "        ssl._create_default_https_context = ssl._create_unverified_context\r\n",
                "\r\n",
                "allowSelfSignedHttps(True) # this line is needed if you use self-signed certificate in your scoring service.\r\n",
                "\r\n",
                "# Request data goes here\r\n",
                "data = {\r\n",
                "    'data': ['Dotty continued to go to Mrs. Gray\\'s every night with the milk. Sometimes Katie went with her, and then they always paused a while under the acorn-tree and played \"King and Queen.\" Dotty said she wished they could ever remember to bring their nipperkins, for in that case the milk would taste a great deal more like nectar. The \"nipperkins\" were a pair of handled cups which the children supposed to be silver, and which they always used at table.\\nDotty knew she was doing wrong every time she played \"King and Queen.\" She knew the milk was not hers, but Mrs. Gray\\'s; still she said to herself, \"Ruthie needn\\'t give so much measure, all pressed down and run over. If Queenie and I should drink a great deal more, there would always be a quart left. Yes, I know there would.\"\\nMrs. Gray never said anything about the milk; she merely poured it out in a pan, and gave back the pail to Dotty, asking her at the same time as many questions as the child would stay to hear.',\r\n",
                "             'Cell division is the process by which a parent cell divides into two or more daughter cells. Cell division usually occurs as part of a larger cell cycle.\\n In eukaryotes, there are two distinct types of cell division: a vegetative division, whereby each daughter cell is genetically identical to the parent cell (mitosis), and a reproductive cell division, whereby the number of chromosomes in the daughter cells is reduced by half, to produce haploid gametes (meiosis). \\nMeiosis results in four haploid daughter cells by undergoing one round of DNA replication followed by two divisions: homologous chromosomes are separated in the first division, and sister chromatids are separated in the second division.\\nBoth of these cell division cycles are used in sexually reproducing organisms at some point in their life cycle, and both are believed to be present in the last eukaryotic common ancestor. Prokaryotes also undergo a vegetative cell division known as binary fission, where their genetic material is segregated equally into two daughter cells. All cell divisions, regardless of organism, are preceded by a single round of DNA replication.'],\r\n",
                "}\r\n",
                "\r\n",
                "body = str.encode(json.dumps(data))\r\n",
                "\r\n",
                "url = 'http://16705546-cea5-4e3e-99a7-6274ca5c4289.australiaeast.azurecontainer.io/score'\r\n",
                "api_key = '' # Replace this with the API key for the web service\r\n",
                "headers = {'Content-Type':'application/json', 'Authorization':('Bearer '+ api_key)}\r\n",
                "\r\n",
                "req = urllib.request.Request(url, body, headers)\r\n",
                "\r\n",
                "try:\r\n",
                "    response = urllib.request.urlopen(req)\r\n",
                "\r\n",
                "    result = response.read()\r\n",
                "    print(result)\r\n",
                "except urllib.error.HTTPError as error:\r\n",
                "    print(\"The request failed with status code: \" + str(error.code))\r\n",
                "\r\n",
                "    # Print the headers - they include the requert ID and the timestamp, which are useful for debugging the failure\r\n",
                "    print(error.info())\r\n",
                "    print(json.loads(error.read().decode(\"utf8\", 'ignore')))\r\n"
            ],
            "outputs": [
                {
                    "output_type": "error",
                    "ename": "URLError",
                    "evalue": "<urlopen error [Errno 11001] getaddrinfo failed>",
                    "traceback": [
                        "\u001b[1;31m---------------------------------------------------------------------------\u001b[0m",
                        "\u001b[1;31mgaierror\u001b[0m                                  Traceback (most recent call last)",
                        "\u001b[1;32m~\\AppData\\Local\\Programs\\Python\\Python39\\lib\\urllib\\request.py\u001b[0m in \u001b[0;36mdo_open\u001b[1;34m(self, http_class, req, **http_conn_args)\u001b[0m\n\u001b[0;32m   1345\u001b[0m             \u001b[1;32mtry\u001b[0m\u001b[1;33m:\u001b[0m\u001b[1;33m\u001b[0m\u001b[1;33m\u001b[0m\u001b[0m\n\u001b[1;32m-> 1346\u001b[1;33m                 h.request(req.get_method(), req.selector, req.data, headers,\n\u001b[0m\u001b[0;32m   1347\u001b[0m                           encode_chunked=req.has_header('Transfer-encoding'))\n",
                        "\u001b[1;32m~\\AppData\\Local\\Programs\\Python\\Python39\\lib\\http\\client.py\u001b[0m in \u001b[0;36mrequest\u001b[1;34m(self, method, url, body, headers, encode_chunked)\u001b[0m\n\u001b[0;32m   1252\u001b[0m         \u001b[1;34m\"\"\"Send a complete request to the server.\"\"\"\u001b[0m\u001b[1;33m\u001b[0m\u001b[1;33m\u001b[0m\u001b[0m\n\u001b[1;32m-> 1253\u001b[1;33m         \u001b[0mself\u001b[0m\u001b[1;33m.\u001b[0m\u001b[0m_send_request\u001b[0m\u001b[1;33m(\u001b[0m\u001b[0mmethod\u001b[0m\u001b[1;33m,\u001b[0m \u001b[0murl\u001b[0m\u001b[1;33m,\u001b[0m \u001b[0mbody\u001b[0m\u001b[1;33m,\u001b[0m \u001b[0mheaders\u001b[0m\u001b[1;33m,\u001b[0m \u001b[0mencode_chunked\u001b[0m\u001b[1;33m)\u001b[0m\u001b[1;33m\u001b[0m\u001b[1;33m\u001b[0m\u001b[0m\n\u001b[0m\u001b[0;32m   1254\u001b[0m \u001b[1;33m\u001b[0m\u001b[0m\n",
                        "\u001b[1;32m~\\AppData\\Local\\Programs\\Python\\Python39\\lib\\http\\client.py\u001b[0m in \u001b[0;36m_send_request\u001b[1;34m(self, method, url, body, headers, encode_chunked)\u001b[0m\n\u001b[0;32m   1298\u001b[0m             \u001b[0mbody\u001b[0m \u001b[1;33m=\u001b[0m \u001b[0m_encode\u001b[0m\u001b[1;33m(\u001b[0m\u001b[0mbody\u001b[0m\u001b[1;33m,\u001b[0m \u001b[1;34m'body'\u001b[0m\u001b[1;33m)\u001b[0m\u001b[1;33m\u001b[0m\u001b[1;33m\u001b[0m\u001b[0m\n\u001b[1;32m-> 1299\u001b[1;33m         \u001b[0mself\u001b[0m\u001b[1;33m.\u001b[0m\u001b[0mendheaders\u001b[0m\u001b[1;33m(\u001b[0m\u001b[0mbody\u001b[0m\u001b[1;33m,\u001b[0m \u001b[0mencode_chunked\u001b[0m\u001b[1;33m=\u001b[0m\u001b[0mencode_chunked\u001b[0m\u001b[1;33m)\u001b[0m\u001b[1;33m\u001b[0m\u001b[1;33m\u001b[0m\u001b[0m\n\u001b[0m\u001b[0;32m   1300\u001b[0m \u001b[1;33m\u001b[0m\u001b[0m\n",
                        "\u001b[1;32m~\\AppData\\Local\\Programs\\Python\\Python39\\lib\\http\\client.py\u001b[0m in \u001b[0;36mendheaders\u001b[1;34m(self, message_body, encode_chunked)\u001b[0m\n\u001b[0;32m   1247\u001b[0m             \u001b[1;32mraise\u001b[0m \u001b[0mCannotSendHeader\u001b[0m\u001b[1;33m(\u001b[0m\u001b[1;33m)\u001b[0m\u001b[1;33m\u001b[0m\u001b[1;33m\u001b[0m\u001b[0m\n\u001b[1;32m-> 1248\u001b[1;33m         \u001b[0mself\u001b[0m\u001b[1;33m.\u001b[0m\u001b[0m_send_output\u001b[0m\u001b[1;33m(\u001b[0m\u001b[0mmessage_body\u001b[0m\u001b[1;33m,\u001b[0m \u001b[0mencode_chunked\u001b[0m\u001b[1;33m=\u001b[0m\u001b[0mencode_chunked\u001b[0m\u001b[1;33m)\u001b[0m\u001b[1;33m\u001b[0m\u001b[1;33m\u001b[0m\u001b[0m\n\u001b[0m\u001b[0;32m   1249\u001b[0m \u001b[1;33m\u001b[0m\u001b[0m\n",
                        "\u001b[1;32m~\\AppData\\Local\\Programs\\Python\\Python39\\lib\\http\\client.py\u001b[0m in \u001b[0;36m_send_output\u001b[1;34m(self, message_body, encode_chunked)\u001b[0m\n\u001b[0;32m   1007\u001b[0m         \u001b[1;32mdel\u001b[0m \u001b[0mself\u001b[0m\u001b[1;33m.\u001b[0m\u001b[0m_buffer\u001b[0m\u001b[1;33m[\u001b[0m\u001b[1;33m:\u001b[0m\u001b[1;33m]\u001b[0m\u001b[1;33m\u001b[0m\u001b[1;33m\u001b[0m\u001b[0m\n\u001b[1;32m-> 1008\u001b[1;33m         \u001b[0mself\u001b[0m\u001b[1;33m.\u001b[0m\u001b[0msend\u001b[0m\u001b[1;33m(\u001b[0m\u001b[0mmsg\u001b[0m\u001b[1;33m)\u001b[0m\u001b[1;33m\u001b[0m\u001b[1;33m\u001b[0m\u001b[0m\n\u001b[0m\u001b[0;32m   1009\u001b[0m \u001b[1;33m\u001b[0m\u001b[0m\n",
                        "\u001b[1;32m~\\AppData\\Local\\Programs\\Python\\Python39\\lib\\http\\client.py\u001b[0m in \u001b[0;36msend\u001b[1;34m(self, data)\u001b[0m\n\u001b[0;32m    947\u001b[0m             \u001b[1;32mif\u001b[0m \u001b[0mself\u001b[0m\u001b[1;33m.\u001b[0m\u001b[0mauto_open\u001b[0m\u001b[1;33m:\u001b[0m\u001b[1;33m\u001b[0m\u001b[1;33m\u001b[0m\u001b[0m\n\u001b[1;32m--> 948\u001b[1;33m                 \u001b[0mself\u001b[0m\u001b[1;33m.\u001b[0m\u001b[0mconnect\u001b[0m\u001b[1;33m(\u001b[0m\u001b[1;33m)\u001b[0m\u001b[1;33m\u001b[0m\u001b[1;33m\u001b[0m\u001b[0m\n\u001b[0m\u001b[0;32m    949\u001b[0m             \u001b[1;32melse\u001b[0m\u001b[1;33m:\u001b[0m\u001b[1;33m\u001b[0m\u001b[1;33m\u001b[0m\u001b[0m\n",
                        "\u001b[1;32m~\\AppData\\Local\\Programs\\Python\\Python39\\lib\\http\\client.py\u001b[0m in \u001b[0;36mconnect\u001b[1;34m(self)\u001b[0m\n\u001b[0;32m    918\u001b[0m         \u001b[1;34m\"\"\"Connect to the host and port specified in __init__.\"\"\"\u001b[0m\u001b[1;33m\u001b[0m\u001b[1;33m\u001b[0m\u001b[0m\n\u001b[1;32m--> 919\u001b[1;33m         self.sock = self._create_connection(\n\u001b[0m\u001b[0;32m    920\u001b[0m             (self.host,self.port), self.timeout, self.source_address)\n",
                        "\u001b[1;32m~\\AppData\\Local\\Programs\\Python\\Python39\\lib\\socket.py\u001b[0m in \u001b[0;36mcreate_connection\u001b[1;34m(address, timeout, source_address)\u001b[0m\n\u001b[0;32m    821\u001b[0m     \u001b[0merr\u001b[0m \u001b[1;33m=\u001b[0m \u001b[1;32mNone\u001b[0m\u001b[1;33m\u001b[0m\u001b[1;33m\u001b[0m\u001b[0m\n\u001b[1;32m--> 822\u001b[1;33m     \u001b[1;32mfor\u001b[0m \u001b[0mres\u001b[0m \u001b[1;32min\u001b[0m \u001b[0mgetaddrinfo\u001b[0m\u001b[1;33m(\u001b[0m\u001b[0mhost\u001b[0m\u001b[1;33m,\u001b[0m \u001b[0mport\u001b[0m\u001b[1;33m,\u001b[0m \u001b[1;36m0\u001b[0m\u001b[1;33m,\u001b[0m \u001b[0mSOCK_STREAM\u001b[0m\u001b[1;33m)\u001b[0m\u001b[1;33m:\u001b[0m\u001b[1;33m\u001b[0m\u001b[1;33m\u001b[0m\u001b[0m\n\u001b[0m\u001b[0;32m    823\u001b[0m         \u001b[0maf\u001b[0m\u001b[1;33m,\u001b[0m \u001b[0msocktype\u001b[0m\u001b[1;33m,\u001b[0m \u001b[0mproto\u001b[0m\u001b[1;33m,\u001b[0m \u001b[0mcanonname\u001b[0m\u001b[1;33m,\u001b[0m \u001b[0msa\u001b[0m \u001b[1;33m=\u001b[0m \u001b[0mres\u001b[0m\u001b[1;33m\u001b[0m\u001b[1;33m\u001b[0m\u001b[0m\n",
                        "\u001b[1;32m~\\AppData\\Local\\Programs\\Python\\Python39\\lib\\socket.py\u001b[0m in \u001b[0;36mgetaddrinfo\u001b[1;34m(host, port, family, type, proto, flags)\u001b[0m\n\u001b[0;32m    952\u001b[0m     \u001b[0maddrlist\u001b[0m \u001b[1;33m=\u001b[0m \u001b[1;33m[\u001b[0m\u001b[1;33m]\u001b[0m\u001b[1;33m\u001b[0m\u001b[1;33m\u001b[0m\u001b[0m\n\u001b[1;32m--> 953\u001b[1;33m     \u001b[1;32mfor\u001b[0m \u001b[0mres\u001b[0m \u001b[1;32min\u001b[0m \u001b[0m_socket\u001b[0m\u001b[1;33m.\u001b[0m\u001b[0mgetaddrinfo\u001b[0m\u001b[1;33m(\u001b[0m\u001b[0mhost\u001b[0m\u001b[1;33m,\u001b[0m \u001b[0mport\u001b[0m\u001b[1;33m,\u001b[0m \u001b[0mfamily\u001b[0m\u001b[1;33m,\u001b[0m \u001b[0mtype\u001b[0m\u001b[1;33m,\u001b[0m \u001b[0mproto\u001b[0m\u001b[1;33m,\u001b[0m \u001b[0mflags\u001b[0m\u001b[1;33m)\u001b[0m\u001b[1;33m:\u001b[0m\u001b[1;33m\u001b[0m\u001b[1;33m\u001b[0m\u001b[0m\n\u001b[0m\u001b[0;32m    954\u001b[0m         \u001b[0maf\u001b[0m\u001b[1;33m,\u001b[0m \u001b[0msocktype\u001b[0m\u001b[1;33m,\u001b[0m \u001b[0mproto\u001b[0m\u001b[1;33m,\u001b[0m \u001b[0mcanonname\u001b[0m\u001b[1;33m,\u001b[0m \u001b[0msa\u001b[0m \u001b[1;33m=\u001b[0m \u001b[0mres\u001b[0m\u001b[1;33m\u001b[0m\u001b[1;33m\u001b[0m\u001b[0m\n",
                        "\u001b[1;31mgaierror\u001b[0m: [Errno 11001] getaddrinfo failed",
                        "\nDuring handling of the above exception, another exception occurred:\n",
                        "\u001b[1;31mURLError\u001b[0m                                  Traceback (most recent call last)",
                        "\u001b[1;32m<ipython-input-11-378eecec6af6>\u001b[0m in \u001b[0;36m<module>\u001b[1;34m\u001b[0m\n\u001b[0;32m     26\u001b[0m \u001b[1;33m\u001b[0m\u001b[0m\n\u001b[0;32m     27\u001b[0m \u001b[1;32mtry\u001b[0m\u001b[1;33m:\u001b[0m\u001b[1;33m\u001b[0m\u001b[1;33m\u001b[0m\u001b[0m\n\u001b[1;32m---> 28\u001b[1;33m     \u001b[0mresponse\u001b[0m \u001b[1;33m=\u001b[0m \u001b[0murllib\u001b[0m\u001b[1;33m.\u001b[0m\u001b[0mrequest\u001b[0m\u001b[1;33m.\u001b[0m\u001b[0murlopen\u001b[0m\u001b[1;33m(\u001b[0m\u001b[0mreq\u001b[0m\u001b[1;33m)\u001b[0m\u001b[1;33m\u001b[0m\u001b[1;33m\u001b[0m\u001b[0m\n\u001b[0m\u001b[0;32m     29\u001b[0m \u001b[1;33m\u001b[0m\u001b[0m\n\u001b[0;32m     30\u001b[0m     \u001b[0mresult\u001b[0m \u001b[1;33m=\u001b[0m \u001b[0mresponse\u001b[0m\u001b[1;33m.\u001b[0m\u001b[0mread\u001b[0m\u001b[1;33m(\u001b[0m\u001b[1;33m)\u001b[0m\u001b[1;33m\u001b[0m\u001b[1;33m\u001b[0m\u001b[0m\n",
                        "\u001b[1;32m~\\AppData\\Local\\Programs\\Python\\Python39\\lib\\urllib\\request.py\u001b[0m in \u001b[0;36murlopen\u001b[1;34m(url, data, timeout, cafile, capath, cadefault, context)\u001b[0m\n\u001b[0;32m    212\u001b[0m     \u001b[1;32melse\u001b[0m\u001b[1;33m:\u001b[0m\u001b[1;33m\u001b[0m\u001b[1;33m\u001b[0m\u001b[0m\n\u001b[0;32m    213\u001b[0m         \u001b[0mopener\u001b[0m \u001b[1;33m=\u001b[0m \u001b[0m_opener\u001b[0m\u001b[1;33m\u001b[0m\u001b[1;33m\u001b[0m\u001b[0m\n\u001b[1;32m--> 214\u001b[1;33m     \u001b[1;32mreturn\u001b[0m \u001b[0mopener\u001b[0m\u001b[1;33m.\u001b[0m\u001b[0mopen\u001b[0m\u001b[1;33m(\u001b[0m\u001b[0murl\u001b[0m\u001b[1;33m,\u001b[0m \u001b[0mdata\u001b[0m\u001b[1;33m,\u001b[0m \u001b[0mtimeout\u001b[0m\u001b[1;33m)\u001b[0m\u001b[1;33m\u001b[0m\u001b[1;33m\u001b[0m\u001b[0m\n\u001b[0m\u001b[0;32m    215\u001b[0m \u001b[1;33m\u001b[0m\u001b[0m\n\u001b[0;32m    216\u001b[0m \u001b[1;32mdef\u001b[0m \u001b[0minstall_opener\u001b[0m\u001b[1;33m(\u001b[0m\u001b[0mopener\u001b[0m\u001b[1;33m)\u001b[0m\u001b[1;33m:\u001b[0m\u001b[1;33m\u001b[0m\u001b[1;33m\u001b[0m\u001b[0m\n",
                        "\u001b[1;32m~\\AppData\\Local\\Programs\\Python\\Python39\\lib\\urllib\\request.py\u001b[0m in \u001b[0;36mopen\u001b[1;34m(self, fullurl, data, timeout)\u001b[0m\n\u001b[0;32m    515\u001b[0m \u001b[1;33m\u001b[0m\u001b[0m\n\u001b[0;32m    516\u001b[0m         \u001b[0msys\u001b[0m\u001b[1;33m.\u001b[0m\u001b[0maudit\u001b[0m\u001b[1;33m(\u001b[0m\u001b[1;34m'urllib.Request'\u001b[0m\u001b[1;33m,\u001b[0m \u001b[0mreq\u001b[0m\u001b[1;33m.\u001b[0m\u001b[0mfull_url\u001b[0m\u001b[1;33m,\u001b[0m \u001b[0mreq\u001b[0m\u001b[1;33m.\u001b[0m\u001b[0mdata\u001b[0m\u001b[1;33m,\u001b[0m \u001b[0mreq\u001b[0m\u001b[1;33m.\u001b[0m\u001b[0mheaders\u001b[0m\u001b[1;33m,\u001b[0m \u001b[0mreq\u001b[0m\u001b[1;33m.\u001b[0m\u001b[0mget_method\u001b[0m\u001b[1;33m(\u001b[0m\u001b[1;33m)\u001b[0m\u001b[1;33m)\u001b[0m\u001b[1;33m\u001b[0m\u001b[1;33m\u001b[0m\u001b[0m\n\u001b[1;32m--> 517\u001b[1;33m         \u001b[0mresponse\u001b[0m \u001b[1;33m=\u001b[0m \u001b[0mself\u001b[0m\u001b[1;33m.\u001b[0m\u001b[0m_open\u001b[0m\u001b[1;33m(\u001b[0m\u001b[0mreq\u001b[0m\u001b[1;33m,\u001b[0m \u001b[0mdata\u001b[0m\u001b[1;33m)\u001b[0m\u001b[1;33m\u001b[0m\u001b[1;33m\u001b[0m\u001b[0m\n\u001b[0m\u001b[0;32m    518\u001b[0m \u001b[1;33m\u001b[0m\u001b[0m\n\u001b[0;32m    519\u001b[0m         \u001b[1;31m# post-process response\u001b[0m\u001b[1;33m\u001b[0m\u001b[1;33m\u001b[0m\u001b[1;33m\u001b[0m\u001b[0m\n",
                        "\u001b[1;32m~\\AppData\\Local\\Programs\\Python\\Python39\\lib\\urllib\\request.py\u001b[0m in \u001b[0;36m_open\u001b[1;34m(self, req, data)\u001b[0m\n\u001b[0;32m    532\u001b[0m \u001b[1;33m\u001b[0m\u001b[0m\n\u001b[0;32m    533\u001b[0m         \u001b[0mprotocol\u001b[0m \u001b[1;33m=\u001b[0m \u001b[0mreq\u001b[0m\u001b[1;33m.\u001b[0m\u001b[0mtype\u001b[0m\u001b[1;33m\u001b[0m\u001b[1;33m\u001b[0m\u001b[0m\n\u001b[1;32m--> 534\u001b[1;33m         result = self._call_chain(self.handle_open, protocol, protocol +\n\u001b[0m\u001b[0;32m    535\u001b[0m                                   '_open', req)\n\u001b[0;32m    536\u001b[0m         \u001b[1;32mif\u001b[0m \u001b[0mresult\u001b[0m\u001b[1;33m:\u001b[0m\u001b[1;33m\u001b[0m\u001b[1;33m\u001b[0m\u001b[0m\n",
                        "\u001b[1;32m~\\AppData\\Local\\Programs\\Python\\Python39\\lib\\urllib\\request.py\u001b[0m in \u001b[0;36m_call_chain\u001b[1;34m(self, chain, kind, meth_name, *args)\u001b[0m\n\u001b[0;32m    492\u001b[0m         \u001b[1;32mfor\u001b[0m \u001b[0mhandler\u001b[0m \u001b[1;32min\u001b[0m \u001b[0mhandlers\u001b[0m\u001b[1;33m:\u001b[0m\u001b[1;33m\u001b[0m\u001b[1;33m\u001b[0m\u001b[0m\n\u001b[0;32m    493\u001b[0m             \u001b[0mfunc\u001b[0m \u001b[1;33m=\u001b[0m \u001b[0mgetattr\u001b[0m\u001b[1;33m(\u001b[0m\u001b[0mhandler\u001b[0m\u001b[1;33m,\u001b[0m \u001b[0mmeth_name\u001b[0m\u001b[1;33m)\u001b[0m\u001b[1;33m\u001b[0m\u001b[1;33m\u001b[0m\u001b[0m\n\u001b[1;32m--> 494\u001b[1;33m             \u001b[0mresult\u001b[0m \u001b[1;33m=\u001b[0m \u001b[0mfunc\u001b[0m\u001b[1;33m(\u001b[0m\u001b[1;33m*\u001b[0m\u001b[0margs\u001b[0m\u001b[1;33m)\u001b[0m\u001b[1;33m\u001b[0m\u001b[1;33m\u001b[0m\u001b[0m\n\u001b[0m\u001b[0;32m    495\u001b[0m             \u001b[1;32mif\u001b[0m \u001b[0mresult\u001b[0m \u001b[1;32mis\u001b[0m \u001b[1;32mnot\u001b[0m \u001b[1;32mNone\u001b[0m\u001b[1;33m:\u001b[0m\u001b[1;33m\u001b[0m\u001b[1;33m\u001b[0m\u001b[0m\n\u001b[0;32m    496\u001b[0m                 \u001b[1;32mreturn\u001b[0m \u001b[0mresult\u001b[0m\u001b[1;33m\u001b[0m\u001b[1;33m\u001b[0m\u001b[0m\n",
                        "\u001b[1;32m~\\AppData\\Local\\Programs\\Python\\Python39\\lib\\urllib\\request.py\u001b[0m in \u001b[0;36mhttp_open\u001b[1;34m(self, req)\u001b[0m\n\u001b[0;32m   1373\u001b[0m \u001b[1;33m\u001b[0m\u001b[0m\n\u001b[0;32m   1374\u001b[0m     \u001b[1;32mdef\u001b[0m \u001b[0mhttp_open\u001b[0m\u001b[1;33m(\u001b[0m\u001b[0mself\u001b[0m\u001b[1;33m,\u001b[0m \u001b[0mreq\u001b[0m\u001b[1;33m)\u001b[0m\u001b[1;33m:\u001b[0m\u001b[1;33m\u001b[0m\u001b[1;33m\u001b[0m\u001b[0m\n\u001b[1;32m-> 1375\u001b[1;33m         \u001b[1;32mreturn\u001b[0m \u001b[0mself\u001b[0m\u001b[1;33m.\u001b[0m\u001b[0mdo_open\u001b[0m\u001b[1;33m(\u001b[0m\u001b[0mhttp\u001b[0m\u001b[1;33m.\u001b[0m\u001b[0mclient\u001b[0m\u001b[1;33m.\u001b[0m\u001b[0mHTTPConnection\u001b[0m\u001b[1;33m,\u001b[0m \u001b[0mreq\u001b[0m\u001b[1;33m)\u001b[0m\u001b[1;33m\u001b[0m\u001b[1;33m\u001b[0m\u001b[0m\n\u001b[0m\u001b[0;32m   1376\u001b[0m \u001b[1;33m\u001b[0m\u001b[0m\n\u001b[0;32m   1377\u001b[0m     \u001b[0mhttp_request\u001b[0m \u001b[1;33m=\u001b[0m \u001b[0mAbstractHTTPHandler\u001b[0m\u001b[1;33m.\u001b[0m\u001b[0mdo_request_\u001b[0m\u001b[1;33m\u001b[0m\u001b[1;33m\u001b[0m\u001b[0m\n",
                        "\u001b[1;32m~\\AppData\\Local\\Programs\\Python\\Python39\\lib\\urllib\\request.py\u001b[0m in \u001b[0;36mdo_open\u001b[1;34m(self, http_class, req, **http_conn_args)\u001b[0m\n\u001b[0;32m   1347\u001b[0m                           encode_chunked=req.has_header('Transfer-encoding'))\n\u001b[0;32m   1348\u001b[0m             \u001b[1;32mexcept\u001b[0m \u001b[0mOSError\u001b[0m \u001b[1;32mas\u001b[0m \u001b[0merr\u001b[0m\u001b[1;33m:\u001b[0m \u001b[1;31m# timeout error\u001b[0m\u001b[1;33m\u001b[0m\u001b[1;33m\u001b[0m\u001b[0m\n\u001b[1;32m-> 1349\u001b[1;33m                 \u001b[1;32mraise\u001b[0m \u001b[0mURLError\u001b[0m\u001b[1;33m(\u001b[0m\u001b[0merr\u001b[0m\u001b[1;33m)\u001b[0m\u001b[1;33m\u001b[0m\u001b[1;33m\u001b[0m\u001b[0m\n\u001b[0m\u001b[0;32m   1350\u001b[0m             \u001b[0mr\u001b[0m \u001b[1;33m=\u001b[0m \u001b[0mh\u001b[0m\u001b[1;33m.\u001b[0m\u001b[0mgetresponse\u001b[0m\u001b[1;33m(\u001b[0m\u001b[1;33m)\u001b[0m\u001b[1;33m\u001b[0m\u001b[1;33m\u001b[0m\u001b[0m\n\u001b[0;32m   1351\u001b[0m         \u001b[1;32mexcept\u001b[0m\u001b[1;33m:\u001b[0m\u001b[1;33m\u001b[0m\u001b[1;33m\u001b[0m\u001b[0m\n",
                        "\u001b[1;31mURLError\u001b[0m: <urlopen error [Errno 11001] getaddrinfo failed>"
                    ]
                }
            ],
            "metadata": {
                "colab": {
                    "base_uri": "https://localhost:8080/"
                },
                "id": "49E2NJ_W83wR",
                "outputId": "f42a4875-6925-4dd5-d14f-6bc91b09c936"
            }
        }
    ],
    "metadata": {
        "orig_nbformat": 4,
        "language_info": {
            "name": "python",
            "version": "3.9.4",
            "mimetype": "text/x-python",
            "codemirror_mode": {
                "name": "ipython",
                "version": 3
            },
            "pygments_lexer": "ipython3",
            "nbconvert_exporter": "python",
            "file_extension": ".py"
        },
        "kernelspec": {
            "name": "python3",
            "display_name": "Python 3.9.4 64-bit"
        },
        "interpreter": {
            "hash": "5eb756464d92b1fba7c316c219a9aedd64e50b1f9cf7b2745bd052621490d6a2"
        }
    },
    "nbformat": 4,
    "nbformat_minor": 2
}