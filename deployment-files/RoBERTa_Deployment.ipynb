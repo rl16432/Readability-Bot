{
  "nbformat": 4,
  "nbformat_minor": 2,
  "metadata": {
    "interpreter": {
      "hash": "5eb756464d92b1fba7c316c219a9aedd64e50b1f9cf7b2745bd052621490d6a2"
    },
    "kernelspec": {
      "name": "python3",
      "display_name": "Python 3.9.4 64-bit"
    },
    "language_info": {
      "codemirror_mode": {
        "name": "ipython",
        "version": 3
      },
      "file_extension": ".py",
      "mimetype": "text/x-python",
      "name": "python",
      "nbconvert_exporter": "python",
      "pygments_lexer": "ipython3",
      "version": "3.9.4"
    },
    "microsoft": {
      "host": {
        "AzureML": {
          "notebookHasBeenCompleted": true
        }
      }
    },
    "nteract": {
      "version": "nteract-front-end@1.0.0"
    },
    "colab": {
      "name": "RoBERTa_Deployment.ipynb",
      "provenance": []
    },
    "accelerator": "GPU"
  },
  "cells": [
    {
      "cell_type": "code",
      "execution_count": null,
      "source": [
        "! pip install azureml-core"
      ],
      "outputs": [
        {
          "output_type": "stream",
          "name": "stdout",
          "text": [
            "Collecting azureml-core\n",
            "  Downloading azureml_core-1.34.0-py3-none-any.whl (2.2 MB)\n",
            "\u001b[K     |████████████████████████████████| 2.2 MB 5.0 MB/s \n",
            "\u001b[?25hRequirement already satisfied: python-dateutil<3.0.0,>=2.7.3 in /usr/local/lib/python3.7/dist-packages (from azureml-core) (2.8.2)\n",
            "Collecting ndg-httpsclient<=0.5.1\n",
            "  Downloading ndg_httpsclient-0.5.1-py3-none-any.whl (34 kB)\n",
            "Collecting docker<6.0.0\n",
            "  Downloading docker-5.0.2-py2.py3-none-any.whl (145 kB)\n",
            "\u001b[K     |████████████████████████████████| 145 kB 49.1 MB/s \n",
            "\u001b[?25hCollecting pyopenssl<21.0.0\n",
            "  Downloading pyOpenSSL-20.0.1-py2.py3-none-any.whl (54 kB)\n",
            "\u001b[K     |████████████████████████████████| 54 kB 2.7 MB/s \n",
            "\u001b[?25hRequirement already satisfied: pytz in /usr/local/lib/python3.7/dist-packages (from azureml-core) (2018.9)\n",
            "Collecting azure-common<2.0.0,>=1.1.12\n",
            "  Downloading azure_common-1.1.27-py2.py3-none-any.whl (12 kB)\n",
            "Requirement already satisfied: contextlib2<22.0.0 in /usr/local/lib/python3.7/dist-packages (from azureml-core) (0.5.5)\n",
            "Collecting azure-mgmt-containerregistry>=2.0.0\n",
            "  Downloading azure_mgmt_containerregistry-8.1.0-py2.py3-none-any.whl (796 kB)\n",
            "\u001b[K     |████████████████████████████████| 796 kB 45.9 MB/s \n",
            "\u001b[?25hCollecting azure-mgmt-authorization<1.0.0,>=0.40.0\n",
            "  Downloading azure_mgmt_authorization-0.61.0-py2.py3-none-any.whl (94 kB)\n",
            "\u001b[K     |████████████████████████████████| 94 kB 3.1 MB/s \n",
            "\u001b[?25hCollecting PyJWT<3.0.0\n",
            "  Downloading PyJWT-2.1.0-py3-none-any.whl (16 kB)\n",
            "Collecting azure-graphrbac<1.0.0,>=0.40.0\n",
            "  Downloading azure_graphrbac-0.61.1-py2.py3-none-any.whl (141 kB)\n",
            "\u001b[K     |████████████████████████████████| 141 kB 48.6 MB/s \n",
            "\u001b[?25hCollecting jsonpickle<3.0.0\n",
            "  Downloading jsonpickle-2.0.0-py2.py3-none-any.whl (37 kB)\n",
            "Collecting azure-mgmt-keyvault<10.0.0,>=0.40.0\n",
            "  Downloading azure_mgmt_keyvault-9.1.0-py2.py3-none-any.whl (314 kB)\n",
            "\u001b[K     |████████████████████████████████| 314 kB 51.1 MB/s \n",
            "\u001b[?25hCollecting azure-mgmt-storage<16.0.0,>=1.5.0\n",
            "  Downloading azure_mgmt_storage-11.2.0-py2.py3-none-any.whl (547 kB)\n",
            "\u001b[K     |████████████████████████████████| 547 kB 49.1 MB/s \n",
            "\u001b[?25hCollecting msrest<1.0.0,>=0.5.1\n",
            "  Downloading msrest-0.6.21-py2.py3-none-any.whl (85 kB)\n",
            "\u001b[K     |████████████████████████████████| 85 kB 3.9 MB/s \n",
            "\u001b[?25hRequirement already satisfied: urllib3<=1.26.6,>=1.23 in /usr/local/lib/python3.7/dist-packages (from azureml-core) (1.24.3)\n",
            "Collecting pathspec<1.0.0\n",
            "  Downloading pathspec-0.9.0-py2.py3-none-any.whl (31 kB)\n",
            "Collecting cryptography!=1.9,!=2.0.*,!=2.1.*,!=2.2.*,<4.0.0\n",
            "  Downloading cryptography-3.4.8-cp36-abi3-manylinux_2_24_x86_64.whl (3.0 MB)\n",
            "\u001b[K     |████████████████████████████████| 3.0 MB 36.0 MB/s \n",
            "\u001b[?25hCollecting ruamel.yaml<0.17.5,>=0.15.35\n",
            "  Downloading ruamel.yaml-0.17.4-py3-none-any.whl (101 kB)\n",
            "\u001b[K     |████████████████████████████████| 101 kB 10.1 MB/s \n",
            "\u001b[?25hRequirement already satisfied: requests<3.0.0,>=2.19.1 in /usr/local/lib/python3.7/dist-packages (from azureml-core) (2.23.0)\n",
            "Collecting backports.tempfile\n",
            "  Downloading backports.tempfile-1.0-py2.py3-none-any.whl (4.4 kB)\n",
            "Collecting msrestazure<=0.6.4,>=0.4.33\n",
            "  Downloading msrestazure-0.6.4-py2.py3-none-any.whl (40 kB)\n",
            "\u001b[K     |████████████████████████████████| 40 kB 5.5 MB/s \n",
            "\u001b[?25hCollecting jmespath<1.0.0\n",
            "  Downloading jmespath-0.10.0-py2.py3-none-any.whl (24 kB)\n",
            "Collecting SecretStorage<4.0.0\n",
            "  Downloading SecretStorage-3.3.1-py3-none-any.whl (15 kB)\n",
            "Collecting adal<=1.2.7,>=1.2.0\n",
            "  Downloading adal-1.2.7-py2.py3-none-any.whl (55 kB)\n",
            "\u001b[K     |████████████████████████████████| 55 kB 4.0 MB/s \n",
            "\u001b[?25hCollecting azure-mgmt-resource<15.0.0,>=1.2.1\n",
            "  Downloading azure_mgmt_resource-13.0.0-py2.py3-none-any.whl (1.3 MB)\n",
            "\u001b[K     |████████████████████████████████| 1.3 MB 37.1 MB/s \n",
            "\u001b[?25hCollecting azure-mgmt-core<2.0.0,>=1.2.0\n",
            "  Downloading azure_mgmt_core-1.3.0-py2.py3-none-any.whl (25 kB)\n",
            "Collecting azure-core<2.0.0,>=1.15.0\n",
            "  Downloading azure_core-1.18.0-py2.py3-none-any.whl (166 kB)\n",
            "\u001b[K     |████████████████████████████████| 166 kB 48.6 MB/s \n",
            "\u001b[?25hRequirement already satisfied: six>=1.11.0 in /usr/local/lib/python3.7/dist-packages (from azure-core<2.0.0,>=1.15.0->azure-mgmt-core<2.0.0,>=1.2.0->azure-mgmt-containerregistry>=2.0.0->azureml-core) (1.15.0)\n",
            "Requirement already satisfied: cffi>=1.12 in /usr/local/lib/python3.7/dist-packages (from cryptography!=1.9,!=2.0.*,!=2.1.*,!=2.2.*,<4.0.0->azureml-core) (1.14.6)\n",
            "Requirement already satisfied: pycparser in /usr/local/lib/python3.7/dist-packages (from cffi>=1.12->cryptography!=1.9,!=2.0.*,!=2.1.*,!=2.2.*,<4.0.0->azureml-core) (2.20)\n",
            "Collecting websocket-client>=0.32.0\n",
            "  Downloading websocket_client-1.2.1-py2.py3-none-any.whl (52 kB)\n",
            "\u001b[K     |████████████████████████████████| 52 kB 1.4 MB/s \n",
            "\u001b[?25hRequirement already satisfied: importlib-metadata in /usr/local/lib/python3.7/dist-packages (from jsonpickle<3.0.0->azureml-core) (4.8.1)\n",
            "Collecting isodate>=0.6.0\n",
            "  Downloading isodate-0.6.0-py2.py3-none-any.whl (45 kB)\n",
            "\u001b[K     |████████████████████████████████| 45 kB 3.5 MB/s \n",
            "\u001b[?25hRequirement already satisfied: requests-oauthlib>=0.5.0 in /usr/local/lib/python3.7/dist-packages (from msrest<1.0.0,>=0.5.1->azureml-core) (1.3.0)\n",
            "Requirement already satisfied: certifi>=2017.4.17 in /usr/local/lib/python3.7/dist-packages (from msrest<1.0.0,>=0.5.1->azureml-core) (2021.5.30)\n",
            "Requirement already satisfied: pyasn1>=0.1.1 in /usr/local/lib/python3.7/dist-packages (from ndg-httpsclient<=0.5.1->azureml-core) (0.4.8)\n",
            "Requirement already satisfied: chardet<4,>=3.0.2 in /usr/local/lib/python3.7/dist-packages (from requests<3.0.0,>=2.19.1->azureml-core) (3.0.4)\n",
            "Requirement already satisfied: idna<3,>=2.5 in /usr/local/lib/python3.7/dist-packages (from requests<3.0.0,>=2.19.1->azureml-core) (2.10)\n",
            "Requirement already satisfied: oauthlib>=3.0.0 in /usr/local/lib/python3.7/dist-packages (from requests-oauthlib>=0.5.0->msrest<1.0.0,>=0.5.1->azureml-core) (3.1.1)\n",
            "Collecting ruamel.yaml.clib>=0.1.2\n",
            "  Downloading ruamel.yaml.clib-0.2.6-cp37-cp37m-manylinux1_x86_64.whl (546 kB)\n",
            "\u001b[K     |████████████████████████████████| 546 kB 40.8 MB/s \n",
            "\u001b[?25hCollecting jeepney>=0.6\n",
            "  Downloading jeepney-0.7.1-py3-none-any.whl (54 kB)\n",
            "\u001b[K     |████████████████████████████████| 54 kB 2.7 MB/s \n",
            "\u001b[?25hCollecting backports.weakref\n",
            "  Downloading backports.weakref-1.0.post1-py2.py3-none-any.whl (5.2 kB)\n",
            "Requirement already satisfied: zipp>=0.5 in /usr/local/lib/python3.7/dist-packages (from importlib-metadata->jsonpickle<3.0.0->azureml-core) (3.5.0)\n",
            "Requirement already satisfied: typing-extensions>=3.6.4 in /usr/local/lib/python3.7/dist-packages (from importlib-metadata->jsonpickle<3.0.0->azureml-core) (3.7.4.3)\n",
            "Installing collected packages: PyJWT, isodate, cryptography, msrest, azure-core, adal, websocket-client, ruamel.yaml.clib, pyopenssl, msrestazure, jeepney, backports.weakref, azure-mgmt-core, azure-common, SecretStorage, ruamel.yaml, pathspec, ndg-httpsclient, jsonpickle, jmespath, docker, backports.tempfile, azure-mgmt-storage, azure-mgmt-resource, azure-mgmt-keyvault, azure-mgmt-containerregistry, azure-mgmt-authorization, azure-graphrbac, azureml-core\n",
            "Successfully installed PyJWT-2.1.0 SecretStorage-3.3.1 adal-1.2.7 azure-common-1.1.27 azure-core-1.18.0 azure-graphrbac-0.61.1 azure-mgmt-authorization-0.61.0 azure-mgmt-containerregistry-8.1.0 azure-mgmt-core-1.3.0 azure-mgmt-keyvault-9.1.0 azure-mgmt-resource-13.0.0 azure-mgmt-storage-11.2.0 azureml-core-1.34.0 backports.tempfile-1.0 backports.weakref-1.0.post1 cryptography-3.4.8 docker-5.0.2 isodate-0.6.0 jeepney-0.7.1 jmespath-0.10.0 jsonpickle-2.0.0 msrest-0.6.21 msrestazure-0.6.4 ndg-httpsclient-0.5.1 pathspec-0.9.0 pyopenssl-20.0.1 ruamel.yaml-0.17.4 ruamel.yaml.clib-0.2.6 websocket-client-1.2.1\n"
          ]
        },
        {
          "output_type": "display_data",
          "data": {
            "application/vnd.colab-display-data+json": {
              "pip_warning": {
                "packages": [
                  "azureml"
                ]
              }
            }
          },
          "metadata": {}
        }
      ],
      "metadata": {
        "colab": {
          "base_uri": "https://localhost:8080/",
          "height": 1000
        },
        "id": "rvdnQ6uQApXQ",
        "outputId": "f9393117-c66e-4f3d-b6eb-66e43f613898"
      }
    },
    {
      "cell_type": "markdown",
      "source": [
        "### Initialise workspace from Azure ML workspace"
      ],
      "metadata": {
        "id": "fbUG8kqE9J8h"
      }
    },
    {
      "cell_type": "code",
      "execution_count": null,
      "source": [
        "from azureml.core import Workspace\r\n",
        "\r\n",
        "source_dir = \"./source_dir/\"\r\n",
        "ws = Workspace.from_config(source_dir + \"config.json\")\r\n",
        "print(ws)"
      ],
      "outputs": [],
      "metadata": {
        "gather": {
          "logged": 1630379983379
        },
        "colab": {
          "base_uri": "https://localhost:8080/"
        },
        "id": "zpCTU7239J8o",
        "outputId": "92cf493c-92a1-44a8-819f-f9ef23e3bbe3"
      }
    },
    {
      "cell_type": "markdown",
      "source": [
        "### Register RoBERTa transformer model"
      ],
      "metadata": {
        "id": "aftPafsa9J8u"
      }
    },
    {
      "cell_type": "code",
      "execution_count": null,
      "source": [
        "from azureml.core.model import Model\r\n",
        "\r\n",
        "# Register model\r\n",
        "model = Model.register(workspace = ws, \r\n",
        "                       model_name = \"Commonlit-RoBERTa-Base\",\r\n",
        "                       model_path = source_dir + \"models/Commonlit-RoBERTa-Base\",\r\n",
        "                       model_framework = \"Custom\")"
      ],
      "outputs": [
        {
          "output_type": "stream",
          "name": "stdout",
          "text": [
            "Registering model Commonlit-RoBERTa-Base\n"
          ]
        }
      ],
      "metadata": {
        "gather": {
          "logged": 1630380002589
        },
        "colab": {
          "base_uri": "https://localhost:8080/"
        },
        "id": "CZ0got5P9J8v",
        "outputId": "c8dbd4c0-bc46-4a17-c743-341c737b6f5e"
      }
    },
    {
      "cell_type": "markdown",
      "source": [
        "### Create environment with necessary dependencies"
      ],
      "metadata": {
        "id": "5pE3XIOk9J8w"
      }
    },
    {
      "cell_type": "code",
      "execution_count": null,
      "source": [
        "from azureml.core import Environment\r\n",
        "from azureml.core.conda_dependencies import CondaDependencies\r\n",
        "from azureml.core.model import InferenceConfig\r\n",
        "\r\n",
        "env = Environment(name = \"Commonlit-Bi-LSTM\")\r\n",
        "conda_dep = CondaDependencies()\r\n",
        "\r\n",
        "conda_dep.add_conda_package(\"numpy\")\r\n",
        "\r\n",
        "conda_dep.add_pip_package(\"transformers\")\r\n",
        "conda_dep.add_pip_package(\"torch\")\r\n",
        "\r\n",
        "conda_dep.add_pip_package(\"azureml-defaults\")\r\n",
        "conda_dep.add_pip_package(\"azureml\")\r\n",
        "conda_dep.add_pip_package(\"azureml-contrib-functions\")\r\n",
        "\r\n",
        "env.python.conda_dependencies = conda_dep"
      ],
      "outputs": [],
      "metadata": {
        "collapsed": true,
        "gather": {
          "logged": 1630384375396
        },
        "jupyter": {
          "outputs_hidden": false,
          "source_hidden": false
        },
        "nteract": {
          "transient": {
            "deleting": false
          }
        },
        "id": "vyECGEwD9J8w"
      }
    },
    {
      "cell_type": "markdown",
      "source": [
        "### Create inference configuration using scoring function"
      ],
      "metadata": {
        "id": "4hODHSqJ9J8x"
      }
    },
    {
      "cell_type": "code",
      "execution_count": null,
      "source": [
        "inference_config = InferenceConfig(\r\n",
        "    environment = env,\r\n",
        "    source_directory = source_dir,\r\n",
        "    entry_script = \"./RoBERTa_score.py\",\r\n",
        ")"
      ],
      "outputs": [],
      "metadata": {
        "gather": {
          "logged": 1630384375611
        },
        "id": "xu1chBRV9J8y"
      }
    },
    {
      "cell_type": "markdown",
      "source": [
        "### Create Azure Container Instance and deploy model to container"
      ],
      "metadata": {
        "id": "Fs5HJTCw9J8z"
      }
    },
    {
      "cell_type": "code",
      "execution_count": null,
      "source": [
        "from azureml.core.webservice import AciWebservice\r\n",
        "aci_config = AciWebservice.deploy_configuration(cpu_cores = 2, memory_gb = 2)\r\n",
        "service = Model.deploy(\r\n",
        "    ws,\r\n",
        "    \"commonlit-roberta-base\",\r\n",
        "    [model],\r\n",
        "    inference_config,\r\n",
        "    aci_config,\r\n",
        "    overwrite = True,\r\n",
        ")\r\n",
        "service.wait_for_deployment(show_output = True)"
      ],
      "outputs": [
        {
          "output_type": "stream",
          "name": "stdout",
          "text": [
            "Tips: You can try get_logs(): https://aka.ms/debugimage#dockerlog or local deployment: https://aka.ms/debugimage#debug-locally to debug if deployment takes longer than 10 minutes.\n",
            "Running\n",
            "2021-09-20 02:47:33+00:00 Creating Container Registry if not exists..\n",
            "2021-09-20 02:57:33+00:00 Registering the environment.\n",
            "2021-09-20 02:57:36+00:00 Building image..\n",
            "2021-09-20 03:09:41+00:00 Generating deployment configuration..\n",
            "2021-09-20 03:09:44+00:00 Submitting deployment to compute..\n",
            "2021-09-20 03:09:52+00:00 Checking the status of deployment commonlit-roberta-base..\n",
            "2021-09-20 03:14:17+00:00 Checking the status of inference endpoint commonlit-roberta-base.\n",
            "Succeeded\n",
            "ACI service creation operation finished, operation \"Succeeded\"\n"
          ]
        }
      ],
      "metadata": {
        "gather": {
          "logged": 1630385148764
        },
        "colab": {
          "base_uri": "https://localhost:8080/"
        },
        "id": "DMFnvlcL9J80",
        "outputId": "2312973c-514a-4a6c-8152-1471b1d7071b"
      }
    },
    {
      "cell_type": "markdown",
      "source": [
        "### Endpoint consumption - Test"
      ],
      "metadata": {
        "id": "ME0LqSdF9J80"
      }
    },
    {
      "cell_type": "code",
      "execution_count": 1,
      "source": [
        "import urllib.request\r\n",
        "import json\r\n",
        "import os\r\n",
        "import ssl\r\n",
        "\r\n",
        "def allowSelfSignedHttps(allowed):\r\n",
        "    # bypass the server certificate verification on client side\r\n",
        "    if allowed and not os.environ.get('PYTHONHTTPSVERIFY', '') and getattr(ssl, '_create_unverified_context', None):\r\n",
        "        ssl._create_default_https_context = ssl._create_unverified_context\r\n",
        "\r\n",
        "allowSelfSignedHttps(True) # this line is needed if you use self-signed certificate in your scoring service.\r\n",
        "\r\n",
        "# Request data goes here\r\n",
        "data = {\r\n",
        "    'data' : ['Dotty continued to go to Mrs. Gray\\'s every night with the milk. Sometimes Katie went with her, and then they always paused a while under the acorn-tree and played \"King and Queen.\" Dotty said she wished they could ever remember to bring their nipperkins, for in that case the milk would taste a great deal more like nectar. The \"nipperkins\" were a pair of handled cups which the children supposed to be silver, and which they always used at table.\\nDotty knew she was doing wrong every time she played \"King and Queen.\" She knew the milk was not hers, but Mrs. Gray\\'s; still she said to herself, \"Ruthie needn\\'t give so much measure, all pressed down and run over. If Queenie and I should drink a great deal more, there would always be a quart left. Yes, I know there would.\"\\nMrs. Gray never said anything about the milk; she merely poured it out in a pan, and gave back the pail to Dotty, asking her at the same time as many questions as the child would stay to hear.',\r\n",
        "             'Cell division is the process by which a parent cell divides into two or more daughter cells. Cell division usually occurs as part of a larger cell cycle.\\n In eukaryotes, there are two distinct types of cell division: a vegetative division, whereby each daughter cell is genetically identical to the parent cell (mitosis), and a reproductive cell division, whereby the number of chromosomes in the daughter cells is reduced by half, to produce haploid gametes (meiosis). \\nMeiosis results in four haploid daughter cells by undergoing one round of DNA replication followed by two divisions: homologous chromosomes are separated in the first division, and sister chromatids are separated in the second division.\\nBoth of these cell division cycles are used in sexually reproducing organisms at some point in their life cycle, and both are believed to be present in the last eukaryotic common ancestor. Prokaryotes also undergo a vegetative cell division known as binary fission, where their genetic material is segregated equally into two daughter cells. All cell divisions, regardless of organism, are preceded by a single round of DNA replication.',\r\n",
        "            ]\r\n",
        "}\r\n",
        "\r\n",
        "body = str.encode(json.dumps(data))\r\n",
        "\r\n",
        "url = 'http://a6533821-c084-423e-8d72-604568c9f2ce.australiaeast.azurecontainer.io/score'\r\n",
        "api_key = '' # Replace this with the API key for the web service\r\n",
        "headers = {'Content-Type':'application/json', 'Authorization':('Bearer '+ api_key)}\r\n",
        "\r\n",
        "req = urllib.request.Request(url, body, headers)\r\n",
        "\r\n",
        "try:\r\n",
        "    response = urllib.request.urlopen(req)\r\n",
        "\r\n",
        "    result = response.read()\r\n",
        "    print(result)\r\n",
        "except urllib.error.HTTPError as error:\r\n",
        "    print(\"The request failed with status code: \" + str(error.code))\r\n",
        "\r\n",
        "    # Print the headers - they include the requert ID and the timestamp, which are useful for debugging the failure\r\n",
        "    print(error.info())\r\n",
        "    print(json.loads(error.read().decode(\"utf8\", 'ignore')))"
      ],
      "outputs": [
        {
          "output_type": "stream",
          "name": "stdout",
          "text": [
            "b'[-0.3461618423461914, -2.693899631500244]'\n"
          ]
        }
      ],
      "metadata": {
        "gather": {
          "logged": 1630385150538
        },
        "jupyter": {
          "outputs_hidden": false,
          "source_hidden": false
        },
        "nteract": {
          "transient": {
            "deleting": false
          }
        },
        "colab": {
          "base_uri": "https://localhost:8080/"
        },
        "id": "PRKjrXwJ9J81",
        "outputId": "e34c63af-f956-4b36-8cf9-8c24ceeffc53"
      }
    }
  ]
}