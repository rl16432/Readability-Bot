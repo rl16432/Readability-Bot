{
  "nbformat": 4,
  "nbformat_minor": 2,
  "metadata": {
    "interpreter": {
      "hash": "5eb756464d92b1fba7c316c219a9aedd64e50b1f9cf7b2745bd052621490d6a2"
    },
    "kernelspec": {
      "name": "python3",
      "display_name": "Python 3.9.4 64-bit"
    },
    "language_info": {
      "codemirror_mode": {
        "name": "ipython",
        "version": 3
      },
      "file_extension": ".py",
      "mimetype": "text/x-python",
      "name": "python",
      "nbconvert_exporter": "python",
      "pygments_lexer": "ipython3",
      "version": "3.9.4"
    },
    "microsoft": {
      "host": {
        "AzureML": {
          "notebookHasBeenCompleted": true
        }
      }
    },
    "nteract": {
      "version": "nteract-front-end@1.0.0"
    },
    "colab": {
      "name": "RoBERTa_Deployment.ipynb",
      "provenance": []
    },
    "accelerator": "GPU"
  },
  "cells": [
    {
      "cell_type": "code",
      "execution_count": null,
      "source": [
        "! pip install azureml-core"
      ],
      "outputs": [],
      "metadata": {
        "colab": {
          "base_uri": "https://localhost:8080/",
          "height": 1000
        },
        "id": "rvdnQ6uQApXQ",
        "outputId": "f9393117-c66e-4f3d-b6eb-66e43f613898"
      }
    },
    {
      "cell_type": "markdown",
      "source": [
        "### Initialise workspace from Azure ML workspace"
      ],
      "metadata": {
        "id": "fbUG8kqE9J8h"
      }
    },
    {
      "cell_type": "code",
      "execution_count": null,
      "source": [
        "from azureml.core import Workspace\r\n",
        "\r\n",
        "source_dir = \"./source_dir/\"\r\n",
        "ws = Workspace.from_config(source_dir + \"config.json\")\r\n",
        "print(ws)"
      ],
      "outputs": [],
      "metadata": {
        "gather": {
          "logged": 1630379983379
        },
        "colab": {
          "base_uri": "https://localhost:8080/"
        },
        "id": "zpCTU7239J8o",
        "outputId": "92cf493c-92a1-44a8-819f-f9ef23e3bbe3"
      }
    },
    {
      "cell_type": "markdown",
      "source": [
        "### Register RoBERTa transformer model"
      ],
      "metadata": {
        "id": "aftPafsa9J8u"
      }
    },
    {
      "cell_type": "code",
      "execution_count": null,
      "source": [
        "from azureml.core.model import Model\r\n",
        "\r\n",
        "# Register model\r\n",
        "model = Model.register(workspace = ws, \r\n",
        "                       model_name = \"Commonlit-RoBERTa-Base\",\r\n",
        "                       model_path = source_dir + \"models/Commonlit-RoBERTa-Base\",\r\n",
        "                       model_framework = \"Custom\")"
      ],
      "outputs": [
        {
          "output_type": "stream",
          "name": "stdout",
          "text": [
            "Registering model Commonlit-RoBERTa-Base\n"
          ]
        }
      ],
      "metadata": {
        "gather": {
          "logged": 1630380002589
        },
        "colab": {
          "base_uri": "https://localhost:8080/"
        },
        "id": "CZ0got5P9J8v",
        "outputId": "c8dbd4c0-bc46-4a17-c743-341c737b6f5e"
      }
    },
    {
      "cell_type": "markdown",
      "source": [
        "### Create environment with necessary dependencies"
      ],
      "metadata": {
        "id": "5pE3XIOk9J8w"
      }
    },
    {
      "cell_type": "code",
      "execution_count": null,
      "source": [
        "from azureml.core import Environment\r\n",
        "from azureml.core.conda_dependencies import CondaDependencies\r\n",
        "from azureml.core.model import InferenceConfig\r\n",
        "\r\n",
        "env = Environment(name = \"Commonlit-Bi-LSTM\")\r\n",
        "conda_dep = CondaDependencies()\r\n",
        "\r\n",
        "conda_dep.add_conda_package(\"numpy\")\r\n",
        "\r\n",
        "conda_dep.add_pip_package(\"transformers\")\r\n",
        "conda_dep.add_pip_package(\"torch\")\r\n",
        "\r\n",
        "conda_dep.add_pip_package(\"azureml-defaults\")\r\n",
        "conda_dep.add_pip_package(\"azureml\")\r\n",
        "conda_dep.add_pip_package(\"azureml-contrib-functions\")\r\n",
        "\r\n",
        "env.python.conda_dependencies = conda_dep"
      ],
      "outputs": [],
      "metadata": {
        "collapsed": true,
        "gather": {
          "logged": 1630384375396
        },
        "jupyter": {
          "outputs_hidden": false,
          "source_hidden": false
        },
        "nteract": {
          "transient": {
            "deleting": false
          }
        },
        "id": "vyECGEwD9J8w"
      }
    },
    {
      "cell_type": "markdown",
      "source": [
        "### Create inference configuration using scoring function"
      ],
      "metadata": {
        "id": "4hODHSqJ9J8x"
      }
    },
    {
      "cell_type": "code",
      "execution_count": null,
      "source": [
        "inference_config = InferenceConfig(\r\n",
        "    environment = env,\r\n",
        "    source_directory = source_dir,\r\n",
        "    entry_script = \"./RoBERTa_score.py\",\r\n",
        ")"
      ],
      "outputs": [],
      "metadata": {
        "gather": {
          "logged": 1630384375611
        },
        "id": "xu1chBRV9J8y"
      }
    },
    {
      "cell_type": "markdown",
      "source": [
        "### Create Azure Container Instance and deploy model to container"
      ],
      "metadata": {
        "id": "Fs5HJTCw9J8z"
      }
    },
    {
      "cell_type": "code",
      "execution_count": null,
      "source": [
        "from azureml.core.webservice import AciWebservice\r\n",
        "aci_config = AciWebservice.deploy_configuration(cpu_cores = 2, memory_gb = 2)\r\n",
        "service = Model.deploy(\r\n",
        "    ws,\r\n",
        "    \"commonlit-roberta-base\",\r\n",
        "    [model],\r\n",
        "    inference_config,\r\n",
        "    aci_config,\r\n",
        "    overwrite = True,\r\n",
        ")\r\n",
        "service.wait_for_deployment(show_output = True)"
      ],
      "outputs": [
        {
          "output_type": "stream",
          "name": "stdout",
          "text": [
            "Tips: You can try get_logs(): https://aka.ms/debugimage#dockerlog or local deployment: https://aka.ms/debugimage#debug-locally to debug if deployment takes longer than 10 minutes.\n",
            "Running\n",
            "2021-09-20 02:47:33+00:00 Creating Container Registry if not exists..\n",
            "2021-09-20 02:57:33+00:00 Registering the environment.\n",
            "2021-09-20 02:57:36+00:00 Building image..\n",
            "2021-09-20 03:09:41+00:00 Generating deployment configuration..\n",
            "2021-09-20 03:09:44+00:00 Submitting deployment to compute..\n",
            "2021-09-20 03:09:52+00:00 Checking the status of deployment commonlit-roberta-base..\n",
            "2021-09-20 03:14:17+00:00 Checking the status of inference endpoint commonlit-roberta-base.\n",
            "Succeeded\n",
            "ACI service creation operation finished, operation \"Succeeded\"\n"
          ]
        }
      ],
      "metadata": {
        "gather": {
          "logged": 1630385148764
        },
        "colab": {
          "base_uri": "https://localhost:8080/"
        },
        "id": "DMFnvlcL9J80",
        "outputId": "2312973c-514a-4a6c-8152-1471b1d7071b"
      }
    },
    {
      "cell_type": "markdown",
      "source": [
        "### Endpoint consumption - Test"
      ],
      "metadata": {
        "id": "ME0LqSdF9J80"
      }
    },
    {
      "cell_type": "code",
      "execution_count": 1,
      "source": [
        "import urllib.request\r\n",
        "import json\r\n",
        "import os\r\n",
        "import ssl\r\n",
        "\r\n",
        "def allowSelfSignedHttps(allowed):\r\n",
        "    # bypass the server certificate verification on client side\r\n",
        "    if allowed and not os.environ.get('PYTHONHTTPSVERIFY', '') and getattr(ssl, '_create_unverified_context', None):\r\n",
        "        ssl._create_default_https_context = ssl._create_unverified_context\r\n",
        "\r\n",
        "allowSelfSignedHttps(True) # this line is needed if you use self-signed certificate in your scoring service.\r\n",
        "\r\n",
        "# Request data goes here\r\n",
        "data = {\r\n",
        "    'data' : ['Dotty continued to go to Mrs. Gray\\'s every night with the milk. Sometimes Katie went with her, and then they always paused a while under the acorn-tree and played \"King and Queen.\" Dotty said she wished they could ever remember to bring their nipperkins, for in that case the milk would taste a great deal more like nectar. The \"nipperkins\" were a pair of handled cups which the children supposed to be silver, and which they always used at table. Dotty knew she was doing wrong every time she played \"King and Queen.\" She knew the milk was not hers, but Mrs. Gray\\'s; still she said to herself, \"Ruthie needn\\'t give so much measure, all pressed down and run over. If Queenie and I should drink a great deal more, there would always be a quart left. Yes, I know there would.\" Mrs. Gray never said anything about the milk; she merely poured it out in a pan, and gave back the pail to Dotty, asking her at the same time as many questions as the child would stay to hear.',\r\n",
        "             'Cell division is the process by which a parent cell divides into two or more daughter cells. Cell division usually occurs as part of a larger cell cycle. In eukaryotes, there are two distinct types of cell division: a vegetative division, whereby each daughter cell is genetically identical to the parent cell (mitosis), and a reproductive cell division, whereby the number of chromosomes in the daughter cells is reduced by half, to produce haploid gametes (meiosis). Meiosis results in four haploid daughter cells by undergoing one round of DNA replication followed by two divisions: homologous chromosomes are separated in the first division, and sister chromatids are separated in the second division. Both of these cell division cycles are used in sexually reproducing organisms at some point in their life cycle, and both are believed to be present in the last eukaryotic common ancestor. Prokaryotes also undergo a vegetative cell division known as binary fission, where their genetic material is segregated equally into two daughter cells. All cell divisions, regardless of organism, are preceded by a single round of DNA replication.',\r\n",
        "            ]\r\n",
        "}\r\n",
        "\r\n",
        "body = str.encode(json.dumps(data))\r\n",
        "\r\n",
        "url = 'http://a6533821-c084-423e-8d72-604568c9f2ce.australiaeast.azurecontainer.io/score'\r\n",
        "api_key = '' # Replace this with the API key for the web service\r\n",
        "headers = {'Content-Type':'application/json', 'Authorization':('Bearer '+ api_key)}\r\n",
        "\r\n",
        "req = urllib.request.Request(url, body, headers)\r\n",
        "\r\n",
        "try:\r\n",
        "    response = urllib.request.urlopen(req)\r\n",
        "\r\n",
        "    result = response.read()\r\n",
        "    print(result)\r\n",
        "except urllib.error.HTTPError as error:\r\n",
        "    print(\"The request failed with status code: \" + str(error.code))\r\n",
        "\r\n",
        "    # Print the headers - they include the requert ID and the timestamp, which are useful for debugging the failure\r\n",
        "    print(error.info())\r\n",
        "    print(json.loads(error.read().decode(\"utf8\", 'ignore')))"
      ],
      "outputs": [
        {
          "output_type": "stream",
          "name": "stdout",
          "text": [
            "b'[-0.3461618423461914, -2.659820318222046]'\n"
          ]
        }
      ],
      "metadata": {
        "gather": {
          "logged": 1630385150538
        },
        "jupyter": {
          "outputs_hidden": false,
          "source_hidden": false
        },
        "nteract": {
          "transient": {
            "deleting": false
          }
        },
        "colab": {
          "base_uri": "https://localhost:8080/"
        },
        "id": "PRKjrXwJ9J81",
        "outputId": "e34c63af-f956-4b36-8cf9-8c24ceeffc53"
      }
    }
  ]
}